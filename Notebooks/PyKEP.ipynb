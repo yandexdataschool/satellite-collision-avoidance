{
 "cells": [
  {
   "cell_type": "markdown",
   "metadata": {},
   "source": [
    "## Pykep installing\n",
    "\n",
    "Instructions here: https://esa.github.io/pykep/installation.html <br> Or, for python3 only: ```pip3 install pykep``` <br>\n",
    "\n",
    "Docs: https://esa.github.io/pykep/documentation/index.html"
   ]
  },
  {
   "cell_type": "code",
   "execution_count": 1,
   "metadata": {},
   "outputs": [],
   "source": [
    "import time\n",
    "import matplotlib.pyplot as plt\n",
    "import pykep as pk\n",
    "from pykep.orbit_plots import plot_planet, plot_lambert\n",
    "from pykep.planet import jpl_lp, tle\n",
    "from pykep import lambert_problem, DAY2SEC, MU_SUN, epoch\n",
    "import numpy as np\n",
    "%matplotlib inline"
   ]
  },
  {
   "cell_type": "markdown",
   "metadata": {},
   "source": [
    "##  Two-line element set\n",
    "\n",
    "A two-line element set (TLE) is a data format encoding a list of orbital elements of an Earth-orbiting object for a given point in time, the epoch. Using suitable prediction formula, the state (position and velocity) at any point in the past or future can be estimated to some accuracy.\n",
    "\n",
    "#### An example TLE for the International Space Station:\n",
    "\n",
    "ISS (ZARYA)\n",
    "\n",
    "1 25544U 98067A   08264.51782528 -.00002182  00000-0 -11606-4 0  2927\n",
    "\n",
    "2 25544  51.6416 247.4627 0006703 130.5360 325.0288 15.72125391563537\n",
    "\n",
    "\n",
    "\n",
    "Try to create satellite. "
   ]
  },
  {
   "cell_type": "code",
   "execution_count": 2,
   "metadata": {},
   "outputs": [
    {
     "name": "stdout",
     "output_type": "stream",
     "text": [
      "Help on class tle in module pykep.planet._planet:\n",
      "\n",
      "class tle(_base)\n",
      " |  An Earth satellite defined from the TLE format, derives from :py:class:`pykep.planet._base`\n",
      " |  \n",
      " |  Method resolution order:\n",
      " |      tle\n",
      " |      _base\n",
      " |      Boost.Python.instance\n",
      " |      builtins.object\n",
      " |  \n",
      " |  Methods defined here:\n",
      " |  \n",
      " |  __copy__(...)\n",
      " |  \n",
      " |  __deepcopy__(...)\n",
      " |  \n",
      " |  __getinitargs__(...)\n",
      " |  \n",
      " |  __getstate__(...)\n",
      " |  \n",
      " |  __init__(...)\n",
      " |      pykep.planet.tle(line1, line2)\n",
      " |      \n",
      " |      - line1: string containing the first line of a TLE (69 well formatted chars)\n",
      " |      - line2: string containing the second line of a TLE (69 well formatted chars)\n",
      " |      \n",
      " |      Example::\n",
      " |      \n",
      " |        line1 = '1 23177U 94040C   06175.45752052  .00000386  00000-0  76590-3 0    95'\n",
      " |        line2 = '2 23177   7.0496 179.8238 7258491 296.0482   8.3061  2.25906668 97438'\n",
      " |        arianne = planet.tle(line1, line2)\n",
      " |  \n",
      " |  __reduce__ = <unnamed Boost.Python function>(...)\n",
      " |  \n",
      " |  __setstate__(...)\n",
      " |  \n",
      " |  set_epoch(...)\n",
      " |      PyKep.planet.tle.set_epoch(year, day)\n",
      " |      \n",
      " |      - year: unsigned integer specifying the full 4 digit year\n",
      " |      - day:  double representing the fractional day as in TLE format.\n",
      " |      \n",
      " |      Set the epoch of the TLE to the given date without changing any other elements.\n",
      " |      Used to work around the Y2056 bug in TLE definition\n",
      " |  \n",
      " |  ----------------------------------------------------------------------\n",
      " |  Data descriptors defined here:\n",
      " |  \n",
      " |  line1\n",
      " |      Get 1st line of original TLE\n",
      " |  \n",
      " |  line2\n",
      " |      Get 2nd line of original TLE\n",
      " |  \n",
      " |  ref_mjd2000\n",
      " |      Get reference epoch (possibly modified from what is in line 1 of TLE)\n",
      " |  \n",
      " |  ----------------------------------------------------------------------\n",
      " |  Data and other attributes defined here:\n",
      " |  \n",
      " |  __getstate_manages_dict__ = True\n",
      " |  \n",
      " |  __instance_size__ = 1016\n",
      " |  \n",
      " |  __safe_for_unpickling__ = True\n",
      " |  \n",
      " |  ----------------------------------------------------------------------\n",
      " |  Methods inherited from _base:\n",
      " |  \n",
      " |  __repr__(...)\n",
      " |  \n",
      " |  compute_period(...)\n",
      " |      The planet orbital period in [sec]\n",
      " |      \n",
      " |      Example::\n",
      " |      \n",
      " |        T = earth.compute_period()\n",
      " |        T = earth.compute_period(epoch(2345.3, 'mjd2000'))\n",
      " |  \n",
      " |  eph(...)\n",
      " |      pykep.planet._base.eph(when)\n",
      " |      \n",
      " |      - when: a :py:class:`pykep.epoch` indicating the epoch at which the ephemerides are needed, it can also be a double in which case its interpreted as a mjd2000\n",
      " |      \n",
      " |      Retuns a tuple containing the planet position and velocity in SI units\n",
      " |      \n",
      " |      .. note::\n",
      " |      \n",
      " |         This is a pure virtual method and must be reimplemented in the derived class\n",
      " |      \n",
      " |      Example::\n",
      " |      \n",
      " |        r,v = earth.eph(epoch(5433), 'mjd2000')\n",
      " |        r,v = earth.eph(5433)\n",
      " |  \n",
      " |  human_readable_extra(...)\n",
      " |      pykep.planet._base.human_readable_extra()\n",
      " |      \n",
      " |      Retuns a string with extra information on the problem.\n",
      " |      \n",
      " |      .. note::\n",
      " |      \n",
      " |         This is a virtual method and can be reimplemented in the derived class. In which case __repr__ will append its returned value\n",
      " |  \n",
      " |  osculating_elements(...)\n",
      " |      Retruns a tuple containing the six osculating keplerian elements a,e,i,W,w,M at the reference epoch\n",
      " |      (SI units used). If no epoch is passed 0. is assumed\n",
      " |      \n",
      " |      Example::\n",
      " |      \n",
      " |        elem = earth.osculating_elements()\n",
      " |        elem = earth.osculating_elements(epoch(2345.3, 'mjd2000'))\n",
      " |  \n",
      " |  ----------------------------------------------------------------------\n",
      " |  Data descriptors inherited from _base:\n",
      " |  \n",
      " |  mu_central_body\n",
      " |      The central body gravity parameter in [m^3/s^2]\n",
      " |      \n",
      " |      Example::\n",
      " |      \n",
      " |        mu = earth.mu_central_body\n",
      " |  \n",
      " |  mu_self\n",
      " |      The body gravity parameter in [m^3/s^2]\n",
      " |      \n",
      " |      Example::\n",
      " |      \n",
      " |        mu_pla = earth.mu_self\n",
      " |  \n",
      " |  name\n",
      " |      The body Name\n",
      " |      \n",
      " |      Example::\n",
      " |      \n",
      " |        name = earth.name\n",
      " |  \n",
      " |  radius\n",
      " |      The planet radius in [m]\n",
      " |      \n",
      " |      Example::\n",
      " |      \n",
      " |        R = earth.radius\n",
      " |  \n",
      " |  safe_radius\n",
      " |      The body safe radius in [m](distance at which it is safe for spacecraft to fly-by)\n",
      " |      \n",
      " |      Example::\n",
      " |      \n",
      " |        Rs = earth.safe_radius\n",
      " |        earth.safe_radius = 1.05\n",
      " |  \n",
      " |  ----------------------------------------------------------------------\n",
      " |  Methods inherited from Boost.Python.instance:\n",
      " |  \n",
      " |  __new__(*args, **kwargs) from Boost.Python.class\n",
      " |      Create and return a new object.  See help(type) for accurate signature.\n",
      " |  \n",
      " |  ----------------------------------------------------------------------\n",
      " |  Data descriptors inherited from Boost.Python.instance:\n",
      " |  \n",
      " |  __dict__\n",
      " |  \n",
      " |  __weakref__\n",
      "\n"
     ]
    }
   ],
   "source": [
    "help(tle)"
   ]
  },
  {
   "cell_type": "code",
   "execution_count": 3,
   "metadata": {},
   "outputs": [
    {
     "data": {
      "image/png": "[encoded data removed]",
      "text/plain": [
       "<matplotlib.figure.Figure at 0x7fbe099294e0>"
      ]
     },
     "metadata": {},
     "output_type": "display_data"
    }
   ],
   "source": [
    "fig = plt.figure()\n",
    "ax = fig.gca(projection='3d')\n",
    "\n",
    "t = epoch(640)\n",
    "\n",
    "earth = jpl_lp('earth')\n",
    "plot_planet(earth, t0=t, ax=ax)\n",
    "\n",
    "plt.show()"
   ]
  },
  {
   "cell_type": "code",
   "execution_count": 4,
   "metadata": {},
   "outputs": [
    {
     "data": {
      "image/png": "[encoded data removed]",
      "text/plain": [
       "<matplotlib.figure.Figure at 0x7fbe0784ff98>"
      ]
     },
     "metadata": {},
     "output_type": "display_data"
    }
   ],
   "source": [
    "fig = plt.figure()\n",
    "ax = fig.gca(projection='3d')\n",
    "\n",
    "t = epoch(640)\n",
    "\n",
    "iss1 = '1 25544U 98067A   17328.30743056  .00003472  00000-0  59488-4 0  9993'\n",
    "iss2 = '2 25544  51.6407 320.0980 0004356 149.0109  38.9204 15.54217487 86654'\n",
    "ISS = tle(iss1, iss2)\n",
    "\n",
    "plot_planet(ISS, t0=t, ax=ax, color=\"g\")\n",
    "\n",
    "plt.show()"
   ]
  },
  {
   "cell_type": "code",
   "execution_count": 5,
   "metadata": {},
   "outputs": [
    {
     "data": {
      "image/png": "[encoded data removed]",
      "text/plain": [
       "<matplotlib.figure.Figure at 0x7fbe077af9b0>"
      ]
     },
     "metadata": {},
     "output_type": "display_data"
    }
   ],
   "source": [
    "fig = plt.figure()\n",
    "ax = fig.gca(projection='3d')\n",
    "\n",
    "t = epoch(640)\n",
    "\n",
    "line1 = '1 23177U 94040C   06175.45752052  .00000386  00000-0  76590-3 0    95'\n",
    "line2 = '2 23177   7.0496 179.8238 7258491 296.0482   8.3061  2.25906668 97438'\n",
    "arianne = tle(line1, line2)\n",
    "\n",
    "plot_planet(arianne, t0=t, ax=ax, color=\"r\")\n",
    "\n",
    "plt.show()"
   ]
  },
  {
   "cell_type": "markdown",
   "metadata": {},
   "source": [
    "### We need:\n",
    "    - convert (position, velocity, time) to TLE to initiate SpaceObject.\n",
    "    - to be able to convert TLE to (x, y, z) - can use .eph(epoch) method\n",
    "    - to calculate the position of satellite at some epoch. - also use eph(epoch)\n",
    "    - add this to simulator, update SpaceObject class.\n",
    "    "
   ]
  },
  {
   "cell_type": "code",
   "execution_count": 6,
   "metadata": {
    "scrolled": true
   },
   "outputs": [
    {
     "name": "stdout",
     "output_type": "stream",
     "text": [
      "Help on method eph:\n",
      "\n",
      "eph(...) method of pykep.planet._planet.tle instance\n",
      "    pykep.planet._base.eph(when)\n",
      "    \n",
      "    - when: a :py:class:`pykep.epoch` indicating the epoch at which the ephemerides are needed, it can also be a double in which case its interpreted as a mjd2000\n",
      "    \n",
      "    Retuns a tuple containing the planet position and velocity in SI units\n",
      "    \n",
      "    .. note::\n",
      "    \n",
      "       This is a pure virtual method and must be reimplemented in the derived class\n",
      "    \n",
      "    Example::\n",
      "    \n",
      "      r,v = earth.eph(epoch(5433), 'mjd2000')\n",
      "      r,v = earth.eph(5433)\n",
      "\n"
     ]
    }
   ],
   "source": [
    "help(ISS.eph)"
   ]
  },
  {
   "cell_type": "code",
   "execution_count": 7,
   "metadata": {},
   "outputs": [
    {
     "name": "stdout",
     "output_type": "stream",
     "text": [
      "ISS position: x - -1246420.70, y - 5863791.87, z - 3159016.80.      \n",
      "ISS velocity: Vx - -5796.63, Vy - 1380.96, Vz - -4836.30      \n",
      "Epoch: 2017-Nov-27 00:00:00\n"
     ]
    }
   ],
   "source": [
    "eph = pk.epoch(6540)\n",
    "pos, v = ISS.eph(eph)\n",
    "print(\"ISS position: x - {:0.2f}, y - {:0.2f}, z - {:0.2f}.\\\n",
    "      \\nISS velocity: Vx - {:0.2f}, Vy - {:0.2f}, Vz - {:0.2f}\\\n",
    "      \\nEpoch: {}\".format(\n",
    "                    pos[0], pos[1], pos[2], \n",
    "                    v[0], v[1], v[2], \n",
    "                    eph)\n",
    "     )"
   ]
  },
  {
   "cell_type": "code",
   "execution_count": 8,
   "metadata": {},
   "outputs": [
    {
     "name": "stdout",
     "output_type": "stream",
     "text": [
      "Help on class epoch in module pykep.core._core:\n",
      "\n",
      "class epoch(Boost.Python.instance)\n",
      " |  Represents a precise point in time. The boost::posix_time_ptime classes are used to handle the conversion to and from string\n",
      " |  \n",
      " |  Method resolution order:\n",
      " |      epoch\n",
      " |      Boost.Python.instance\n",
      " |      builtins.object\n",
      " |  \n",
      " |  Methods defined here:\n",
      " |  \n",
      " |  __getinitargs__(...)\n",
      " |  \n",
      " |  __getstate__(...)\n",
      " |  \n",
      " |  __init__ = _epoch_ctor(self, julian_date=0, julian_date_type='mjd2000')\n",
      " |      pykep.epoch(julian_date=0, julian_date_type=\"mjd2000\")\n",
      " |      \n",
      " |      - julian_date: a julian date, defaults to 0\n",
      " |      - julian_date_type: julian date type, one of \"jd\", \"mjd\" and \"mjd2000\", defaults to \"mjd2000\"\n",
      " |      \n",
      " |      Examples::\n",
      " |      \n",
      " |        e1 = epoch(0)\n",
      " |        e1 = epoch(0,\"mjd2000\")\n",
      " |        e2 = epoch(54333, \"mjd\")\n",
      " |  \n",
      " |  __reduce__ = <unnamed Boost.Python function>(...)\n",
      " |  \n",
      " |  __repr__(...)\n",
      " |  \n",
      " |  __setstate__(...)\n",
      " |  \n",
      " |  ----------------------------------------------------------------------\n",
      " |  Data descriptors defined here:\n",
      " |  \n",
      " |  jd\n",
      " |      Returns the Julian Date\n",
      " |      \n",
      " |      Example::\n",
      " |      \n",
      " |        jd = e.jd\n",
      " |  \n",
      " |  mjd\n",
      " |      Returns the Modified Julian Date\n",
      " |      \n",
      " |      Example::\n",
      " |      \n",
      " |        jd = e.mjd\n",
      " |  \n",
      " |  mjd2000\n",
      " |      Returns the Modifeid Julian Date 2000\n",
      " |      \n",
      " |      Example::\n",
      " |      \n",
      " |        jd = e.mjd2000\n",
      " |  \n",
      " |  ----------------------------------------------------------------------\n",
      " |  Data and other attributes defined here:\n",
      " |  \n",
      " |  __getstate_manages_dict__ = True\n",
      " |  \n",
      " |  __instance_size__ = 24\n",
      " |  \n",
      " |  __safe_for_unpickling__ = True\n",
      " |  \n",
      " |  ----------------------------------------------------------------------\n",
      " |  Methods inherited from Boost.Python.instance:\n",
      " |  \n",
      " |  __new__(*args, **kwargs) from Boost.Python.class\n",
      " |      Create and return a new object.  See help(type) for accurate signature.\n",
      " |  \n",
      " |  ----------------------------------------------------------------------\n",
      " |  Data descriptors inherited from Boost.Python.instance:\n",
      " |  \n",
      " |  __dict__\n",
      " |  \n",
      " |  __weakref__\n",
      "\n"
     ]
    }
   ],
   "source": [
    "help(epoch)"
   ]
  },
  {
   "cell_type": "code",
   "execution_count": 9,
   "metadata": {},
   "outputs": [
    {
     "name": "stdout",
     "output_type": "stream",
     "text": [
      "Data: 2017-Nov-27 00:00:00\n",
      "Julian Date: 2458084.5\n",
      "Modified Julian Date58084.0\n",
      "Modifeid Julian Date 2000: 6540.0\n"
     ]
    }
   ],
   "source": [
    "print(\"Data: {}\\nJulian Date: {}\\nModified Julian Date{}\\nModifeid Julian Date 2000: {}\".format(eph, eph.jd, eph.mjd, eph.mjd2000))"
   ]
  },
  {
   "cell_type": "markdown",
   "metadata": {},
   "source": [
    "To create an epoch type from normal date - we can use ***pykep.epoch_from_string()*** or ***pykep.epoch_from_iso_string()***"
   ]
  },
  {
   "cell_type": "code",
   "execution_count": 10,
   "metadata": {},
   "outputs": [
    {
     "name": "stdout",
     "output_type": "stream",
     "text": [
      "Help on built-in function epoch_from_string in module pykep.core._core:\n",
      "\n",
      "epoch_from_string(...)\n",
      "    pykep.epoch_from_string(s)\n",
      "    \n",
      "    - s: string containing a date in the format 'YYYY-MM-DD HH:MM:SS'Returns a :py:class:`pykep.epoch` object constructed from a from a delimited string containing a date.Excess digits in fractional seconds will be dropped. Ex: '1:02:03.123456999' => '1:02:03.123456'.This behavior depends on the precision defined in astro_constant.h used to compile.\n",
      "    \n",
      "    NOTE: The function is based on the corresponding `boost date_time library function <http://www.boost.org/doc/libs/1_44_0/doc/html/date_time/posix_time.html#ptime_from_string>`_\n",
      "    \n",
      "    Example::\n",
      "    \n",
      "      e = pykep.epoch_from_string('2002-01-20 23:59:54.003')\n",
      "\n"
     ]
    }
   ],
   "source": [
    "help(pk.epoch_from_string)"
   ]
  },
  {
   "cell_type": "code",
   "execution_count": 11,
   "metadata": {},
   "outputs": [
    {
     "name": "stdout",
     "output_type": "stream",
     "text": [
      "Current time in YYYY-MM-DD HH:MM:SS format: 2017-11-27 14:17:00\n",
      "2017-Nov-27 14:16:59\n"
     ]
    }
   ],
   "source": [
    "t = time.strftime(\"%Y-%m-%d %T\")\n",
    "print(\"Current time in YYYY-MM-DD HH:MM:SS format: {}\".format(t))\n",
    "curr_eph = pk.epoch_from_string(t)\n",
    "print(curr_eph)"
   ]
  },
  {
   "cell_type": "code",
   "execution_count": 12,
   "metadata": {},
   "outputs": [
    {
     "name": "stdout",
     "output_type": "stream",
     "text": [
      "Help on built-in function epoch_from_iso_string in module pykep.core._core:\n",
      "\n",
      "epoch_from_iso_string(...)\n",
      "    pykep.epoch_from_iso_string(s)\n",
      "    \n",
      "    - s: string containing a date in the iso format 'YYYYMMDDTHHMMSS'Returns a :py:class:`pykep.epoch` object constructed from a from a non delimited iso form string containing a date.\n",
      "    \n",
      "    NOTE: The function is based on the corresponding `boost date_time library function <http://www.boost.org/doc/libs/1_44_0/doc/html/date_time/posix_time.html#ptime_from_string>`_\n",
      "    \n",
      "    Example::\n",
      "    \n",
      "      e = pykep.epoch_from_iso_string('20020120T235954')\n",
      "\n"
     ]
    }
   ],
   "source": [
    "help(pk.epoch_from_iso_string)"
   ]
  },
  {
   "cell_type": "code",
   "execution_count": 13,
   "metadata": {},
   "outputs": [
    {
     "name": "stdout",
     "output_type": "stream",
     "text": [
      "Current time in YYYYMMDDTHHMMSS format: 20171127T141700\n",
      "2017-Nov-27 14:16:59\n"
     ]
    }
   ],
   "source": [
    "t = time.strftime(\"%Y%m%dT%H%M%S\")\n",
    "print(\"Current time in YYYYMMDDTHHMMSS format: {}\".format(t))\n",
    "curr_eph = pk.epoch_from_iso_string(t)\n",
    "print(curr_eph)"
   ]
  },
  {
   "cell_type": "code",
   "execution_count": 14,
   "metadata": {},
   "outputs": [
    {
     "data": {
      "text/plain": [
       "2000-Jan-02 00:00:00"
      ]
     },
     "execution_count": 14,
     "metadata": {},
     "output_type": "execute_result"
    }
   ],
   "source": [
    "pk.epoch(1, \"mjd2000\")"
   ]
  },
  {
   "cell_type": "markdown",
   "metadata": {},
   "source": [
    "\n"
   ]
  },
  {
   "cell_type": "markdown",
   "metadata": {},
   "source": [
    "**Вопросы**:\n",
    "1. Как опредляются у нас параметры x, y, z (отностиельно земли?), и как это соотносится с тем, что возвразает `tle.eph(epoch)`\n",
    "2. Как преобразовать (pos, v, t) в TLE формат. -- **можем использовать не pk.planet.tle, а pk.planet.keplerian**\n",
    "3. "
   ]
  },
  {
   "cell_type": "markdown",
   "metadata": {},
   "source": [
    "### Initiate a satellite with position (cartesian), velocity, epoch."
   ]
  },
  {
   "cell_type": "markdown",
   "metadata": {},
   "source": [
    "ECEF (\"earth-centered, earth-fixed\"), also known as ECR (\"earth-centered rotational\"), is a geographic coordinate system and Cartesian coordinate system, and is sometimes known as a \"conventional terrestrial\" system. It represents positions (in meters) as X, Y, and Z coordinates. The point (0,0,0) is defined as the center of mass of the earth, hence the name \"earth-centered.\" Its axes are aligned with the international reference pole (IRP) and international reference meridian (IRM) that are fixed with respect to the surface of the earth, hence the description \"earth-fixed.\" This term can cause confusion since the earth does not rotate about the z-axis (unlike an inertial system such as ECI), and is therefore alternatively called ECR.\n",
    "\n",
    "The z-axis extends through True north, which does not coincide with the instantaneous earth rotational axis. The slight \"wobbling\" of the rotational axis is known as polar motion. The x-axis intersects the sphere of the earth at 0° latitude (the equator) and 0° longitude (prime meridian in Greenwich). This means that ECEF rotates with the earth, and therefore coordinates of a point fixed on the surface of the earth do not change. Conversion from a WGS84 datum to ECEF can be used as an intermediate step in converting velocities to the north east down coordinate system.\n",
    "\n",
    "<img src=\"https://upload.wikimedia.org/wikipedia/commons/thumb/7/7b/ECEF.svg/1200px-ECEF.svg.png\">\n",
    "\n",
    "\n",
    "https://en.wikipedia.org/wiki/ECEF"
   ]
  },
  {
   "cell_type": "code",
   "execution_count": 15,
   "metadata": {},
   "outputs": [
    {
     "name": "stdout",
     "output_type": "stream",
     "text": [
      "Help on built-in function propagate_lagrangian in module pykep.core._core:\n",
      "\n",
      "propagate_lagrangian(...)\n",
      "    pykep.propagate_lagrangian(r,v,t,mu)\n",
      "    \n",
      "    - r: start position, x,y,z\n",
      "    - v: start velocity, vx,vy,vz\n",
      "    - t: propagation time\n",
      "    - mu: central body gravity constant\n",
      "    \n",
      "    Returns a tuple containing r and v, the final position and velocity after the propagation.\n",
      "    \n",
      "    Example::\n",
      "    \n",
      "      r,v = propagate_lagrangian([1,0,0],[0,1,0],pi/2,1)\n",
      "\n"
     ]
    }
   ],
   "source": [
    "help(pk.propagate_lagrangian)"
   ]
  },
  {
   "cell_type": "code",
   "execution_count": 16,
   "metadata": {},
   "outputs": [
    {
     "name": "stdout",
     "output_type": "stream",
     "text": [
      "(1.1102230246251565e-16, 1.0, 0.0) (-1.0, 1.1102230246251565e-16, 0.0)\n"
     ]
    }
   ],
   "source": [
    "import math\n",
    "r,v = pk.propagate_lagrangian([1,0,0],[0,1,0],math.pi/2,1)\n",
    "print(r, v)"
   ]
  },
  {
   "cell_type": "code",
   "execution_count": 17,
   "metadata": {},
   "outputs": [
    {
     "data": {
      "text/plain": [
       "Lambert's problem:\n",
       "mu = 1\n",
       "r1 = [1, 0, 0]\n",
       "r2 = [0, 1, 0]\n",
       "Time of flight: 7.8539816339745\n",
       "\n",
       "chord = 1.4142135623731\n",
       "semiperimeter = 1.7071067811865\n",
       "lambda = 0.41421356237309\n",
       "non dimensional time of flight = 4.9798223260205\n",
       "\n",
       "Maximum number of revolutions: 1\n",
       "Solutions: \n",
       "0 revs, Iters: 3, x: -0.58644325543794, a: 1.3009812610796\n",
       "\tv1= [0.90230487720848529, 0.64590659483860502, 0] v2= [-0.64590659483860502, -0.90230487720848529, 0]\n",
       "1 revs,  left. Iters: 4, x: -0.11188837995933, a: 0.86437450327173\n",
       "\tv1= [0.4521333366855077, 0.79916800651739373, 0] v2= [-0.79916800651739373, -0.4521333366855077, 0]\n",
       "1 revs, right. Iters: 4, a: 0.38268343236509, a: 1\n",
       "\tv1= [0, 1, 0] v2= [-1, 0, 0]"
      ]
     },
     "execution_count": 17,
     "metadata": {},
     "output_type": "execute_result"
    }
   ],
   "source": [
    "l = pk.lambert_problem([1,0,0],[0,1,0],5 * math.pi / 2. )\n",
    "l"
   ]
  },
  {
   "cell_type": "code",
   "execution_count": 18,
   "metadata": {},
   "outputs": [
    {
     "name": "stdout",
     "output_type": "stream",
     "text": [
      "Help on built-in function ic2eq in module pykep.core._core:\n",
      "\n",
      "ic2eq(...)\n",
      "    pykep.ic2eq(r,v,mu = 1.0, retrogade = False)\n",
      "    \n",
      "    - r: position (cartesian)\n",
      "    - v: velocity (cartesian)\n",
      "    - mu: gravity parameter\n",
      "    \n",
      "    - retrogade: uses the retrograde parameters. Default value is False.\n",
      "    \n",
      "    Returns the modified equinoctial elements a(1-e^2),h,k,p,q,L\n",
      "    L is the true mean longitude\n",
      "    Example:: \n",
      "    \n",
      "      E = ic2eq(r = [1,0,0], v = [0,1,0], mu =1.0)\n",
      "\n"
     ]
    }
   ],
   "source": [
    "E = pk.ic2eq(r = [1,0,0], v = [0,1,0], mu =1.0)\n",
    "help(pk.ic2eq)"
   ]
  },
  {
   "cell_type": "code",
   "execution_count": 19,
   "metadata": {},
   "outputs": [
    {
     "name": "stdout",
     "output_type": "stream",
     "text": [
      "Help on class keplerian in module pykep.planet._planet:\n",
      "\n",
      "class keplerian(_base)\n",
      " |  A planet with Keplerian ephemerides, derives from :py:class:`pykep.planet._base`\n",
      " |  \n",
      " |  Method resolution order:\n",
      " |      keplerian\n",
      " |      _base\n",
      " |      Boost.Python.instance\n",
      " |      builtins.object\n",
      " |  \n",
      " |  Methods defined here:\n",
      " |  \n",
      " |  __copy__(...)\n",
      " |  \n",
      " |  __deepcopy__(...)\n",
      " |  \n",
      " |  __getinitargs__(...)\n",
      " |  \n",
      " |  __getstate__(...)\n",
      " |  \n",
      " |  __init__ = _keplerian_ctor(self, *args)\n",
      " |      pykep.planet.keplerian(when,orbital_elements, mu_central_body, mu_self,radius, safe_radius [, name = 'unknown'])\n",
      " |      \n",
      " |      pykep.planet.keplerian(when,r,v, mu_central_body, mu_self,radius, safe_radius [, name = 'unknown'])\n",
      " |      \n",
      " |      - when: a :py:class:`pykep.epoch` indicating the orbital elements reference epoch\n",
      " |      - orbital_elements: a sequence of six containing a,e,i,W,w,M (SI units, i.e. meters and radiants)\n",
      " |      - r,v: position and velocity of an object at when (SI units)\n",
      " |      - mu_central_body: gravity parameter of the central body (SI units, i.e. m^2/s^3)\n",
      " |      - mu_self: gravity parameter of the planet (SI units, i.e. m^2/s^3)\n",
      " |      - radius: body radius (SI units, i.e. meters)\n",
      " |      - safe_radius: mimimual radius that is safe during a fly-by of the planet (SI units, i.e. m)\n",
      " |      - name: body name\n",
      " |      \n",
      " |      .. note::\n",
      " |      \n",
      " |         All classes having Keplerian ephemerides as :py:class:`pykep.planet.mpcorb` inherit from this (c++) class\n",
      " |      \n",
      " |      Example::\n",
      " |      \n",
      " |        earth = planet(epoch(54000,\"mjd\"),(9.99e-01 * AU, 1.67e-02, 8.85e-04 * DEG2RAD, 1.75e+02 * DEG2RAD, 2.87e+02 * DEG2RAD, 2.57e+02 * DEG2RAD), MU_SUN, 398600e9, 6378000, 6900000,  'Earth')\"\n",
      " |  \n",
      " |  __reduce__ = <unnamed Boost.Python function>(...)\n",
      " |  \n",
      " |  __setstate__(...)\n",
      " |  \n",
      " |  ----------------------------------------------------------------------\n",
      " |  Data descriptors defined here:\n",
      " |  \n",
      " |  orbital_elements\n",
      " |      The keplerian elements of the planet\n",
      " |      \n",
      " |      Example::\n",
      " |      \n",
      " |        el = earth.orbital_elements\n",
      " |  \n",
      " |  ref_epoch\n",
      " |      The reference epoch at which the elements are given\n",
      " |      \n",
      " |      Example::\n",
      " |      \n",
      " |        el = earth.ref_epoch\n",
      " |  \n",
      " |  ref_mjd2000\n",
      " |      The reference epoch at which the elements are given\n",
      " |      \n",
      " |      Example::\n",
      " |      \n",
      " |        el = earth.ref_mjd2000\n",
      " |  \n",
      " |  ----------------------------------------------------------------------\n",
      " |  Data and other attributes defined here:\n",
      " |  \n",
      " |  __getstate_manages_dict__ = True\n",
      " |  \n",
      " |  __instance_size__ = 176\n",
      " |  \n",
      " |  __safe_for_unpickling__ = True\n",
      " |  \n",
      " |  ----------------------------------------------------------------------\n",
      " |  Methods inherited from _base:\n",
      " |  \n",
      " |  __repr__(...)\n",
      " |  \n",
      " |  compute_period(...)\n",
      " |      The planet orbital period in [sec]\n",
      " |      \n",
      " |      Example::\n",
      " |      \n",
      " |        T = earth.compute_period()\n",
      " |        T = earth.compute_period(epoch(2345.3, 'mjd2000'))\n",
      " |  \n",
      " |  eph(...)\n",
      " |      pykep.planet._base.eph(when)\n",
      " |      \n",
      " |      - when: a :py:class:`pykep.epoch` indicating the epoch at which the ephemerides are needed, it can also be a double in which case its interpreted as a mjd2000\n",
      " |      \n",
      " |      Retuns a tuple containing the planet position and velocity in SI units\n",
      " |      \n",
      " |      .. note::\n",
      " |      \n",
      " |         This is a pure virtual method and must be reimplemented in the derived class\n",
      " |      \n",
      " |      Example::\n",
      " |      \n",
      " |        r,v = earth.eph(epoch(5433), 'mjd2000')\n",
      " |        r,v = earth.eph(5433)\n",
      " |  \n",
      " |  human_readable_extra(...)\n",
      " |      pykep.planet._base.human_readable_extra()\n",
      " |      \n",
      " |      Retuns a string with extra information on the problem.\n",
      " |      \n",
      " |      .. note::\n",
      " |      \n",
      " |         This is a virtual method and can be reimplemented in the derived class. In which case __repr__ will append its returned value\n",
      " |  \n",
      " |  osculating_elements(...)\n",
      " |      Retruns a tuple containing the six osculating keplerian elements a,e,i,W,w,M at the reference epoch\n",
      " |      (SI units used). If no epoch is passed 0. is assumed\n",
      " |      \n",
      " |      Example::\n",
      " |      \n",
      " |        elem = earth.osculating_elements()\n",
      " |        elem = earth.osculating_elements(epoch(2345.3, 'mjd2000'))\n",
      " |  \n",
      " |  ----------------------------------------------------------------------\n",
      " |  Data descriptors inherited from _base:\n",
      " |  \n",
      " |  mu_central_body\n",
      " |      The central body gravity parameter in [m^3/s^2]\n",
      " |      \n",
      " |      Example::\n",
      " |      \n",
      " |        mu = earth.mu_central_body\n",
      " |  \n",
      " |  mu_self\n",
      " |      The body gravity parameter in [m^3/s^2]\n",
      " |      \n",
      " |      Example::\n",
      " |      \n",
      " |        mu_pla = earth.mu_self\n",
      " |  \n",
      " |  name\n",
      " |      The body Name\n",
      " |      \n",
      " |      Example::\n",
      " |      \n",
      " |        name = earth.name\n",
      " |  \n",
      " |  radius\n",
      " |      The planet radius in [m]\n",
      " |      \n",
      " |      Example::\n",
      " |      \n",
      " |        R = earth.radius\n",
      " |  \n",
      " |  safe_radius\n",
      " |      The body safe radius in [m](distance at which it is safe for spacecraft to fly-by)\n",
      " |      \n",
      " |      Example::\n",
      " |      \n",
      " |        Rs = earth.safe_radius\n",
      " |        earth.safe_radius = 1.05\n",
      " |  \n",
      " |  ----------------------------------------------------------------------\n",
      " |  Methods inherited from Boost.Python.instance:\n",
      " |  \n",
      " |  __new__(*args, **kwargs) from Boost.Python.class\n",
      " |      Create and return a new object.  See help(type) for accurate signature.\n",
      " |  \n",
      " |  ----------------------------------------------------------------------\n",
      " |  Data descriptors inherited from Boost.Python.instance:\n",
      " |  \n",
      " |  __dict__\n",
      " |  \n",
      " |  __weakref__\n",
      "\n"
     ]
    }
   ],
   "source": [
    "help(pk.planet.keplerian)"
   ]
  },
  {
   "cell_type": "code",
   "execution_count": 20,
   "metadata": {},
   "outputs": [],
   "source": [
    "t = 6541\n",
    "pos = [1,0,0]\n",
    "v = [0,1,0]\n",
    "mu =1.0\n",
    "eph = pk.epoch(t, \"mjd2000\")\n",
    "E = pk.ic2eq(r = [1,0,0], v = [0,1,0], mu =1.0)\n",
    "# initiate with orbital elements\n",
    "sat = pk.planet.keplerian(eph, E)\n",
    "# initiate with pos and v \n",
    "# s2 = pk.planet.keplerian(eph, r, v, mu, mu, mu) - not working!"
   ]
  },
  {
   "cell_type": "code",
   "execution_count": 21,
   "metadata": {},
   "outputs": [
    {
     "data": {
      "text/plain": [
       "Planet Name: Unknown\n",
       "Own gravity parameter: 0.10000000000000001\n",
       "Central body gravity parameter: 0.10000000000000001\n",
       "Planet radius: 0.10000000000000001\n",
       "Planet safe radius: 0.10000000000000001\n",
       "Keplerian planet elements: \n",
       "Semi major axis (AU): 6.6845871226705987e-12\n",
       "Eccentricity: 0\n",
       "Inclination (deg.): 0\n",
       "Big Omega (deg.): 0\n",
       "Small omega (deg.): -0\n",
       "Mean anomaly (deg.): 0\n",
       "Elements reference epoch: 2017-Nov-28 00:00:00\n",
       "Ephemerides type: Keplerian\n",
       "r at ref. = [1, 0, 0]\n",
       "v at ref. = [0, 0.31622776601683794, 0]"
      ]
     },
     "execution_count": 21,
     "metadata": {},
     "output_type": "execute_result"
    }
   ],
   "source": [
    "sat"
   ]
  },
  {
   "cell_type": "code",
   "execution_count": 22,
   "metadata": {},
   "outputs": [
    {
     "data": {
      "text/plain": [
       "['__class__',\n",
       " '__copy__',\n",
       " '__deepcopy__',\n",
       " '__delattr__',\n",
       " '__dict__',\n",
       " '__dir__',\n",
       " '__doc__',\n",
       " '__eq__',\n",
       " '__format__',\n",
       " '__ge__',\n",
       " '__getattribute__',\n",
       " '__getinitargs__',\n",
       " '__getstate__',\n",
       " '__getstate_manages_dict__',\n",
       " '__gt__',\n",
       " '__hash__',\n",
       " '__init__',\n",
       " '__instance_size__',\n",
       " '__le__',\n",
       " '__lt__',\n",
       " '__module__',\n",
       " '__ne__',\n",
       " '__new__',\n",
       " '__reduce__',\n",
       " '__reduce_ex__',\n",
       " '__repr__',\n",
       " '__safe_for_unpickling__',\n",
       " '__setattr__',\n",
       " '__setstate__',\n",
       " '__sizeof__',\n",
       " '__str__',\n",
       " '__subclasshook__',\n",
       " '__weakref__',\n",
       " '_orig_init',\n",
       " 'compute_period',\n",
       " 'eph',\n",
       " 'human_readable_extra',\n",
       " 'mu_central_body',\n",
       " 'mu_self',\n",
       " 'name',\n",
       " 'orbital_elements',\n",
       " 'osculating_elements',\n",
       " 'radius',\n",
       " 'ref_epoch',\n",
       " 'ref_mjd2000',\n",
       " 'safe_radius']"
      ]
     },
     "execution_count": 22,
     "metadata": {},
     "output_type": "execute_result"
    }
   ],
   "source": [
    "dir(sat)"
   ]
  },
  {
   "cell_type": "code",
   "execution_count": 23,
   "metadata": {},
   "outputs": [
    {
     "name": "stdout",
     "output_type": "stream",
     "text": [
      "Position at epoch 2019-Mar-02 00:00:00: (0.07504426809074016, -0.9971802032866103, 0.0)\n",
      "Velocity at epoch 2019-Mar-02 00:00:00: (0.31533606800154107, 0.02373108125070344, 0.0)\n"
     ]
    }
   ],
   "source": [
    "eph = epoch(7000, \"mjd2000\")\n",
    "pos, v = sat.eph(eph)\n",
    "print(\"Position at epoch {}: {}\\nVelocity at epoch {}: {}\".format(eph, pos, eph, v))"
   ]
  },
  {
   "cell_type": "code",
   "execution_count": 24,
   "metadata": {},
   "outputs": [],
   "source": [
    "sat.name = \"D1\""
   ]
  },
  {
   "cell_type": "code",
   "execution_count": null,
   "metadata": {},
   "outputs": [],
   "source": []
  },
  {
   "cell_type": "markdown",
   "metadata": {},
   "source": [
    "## Example of simulator"
   ]
  },
  {
   "cell_type": "code",
   "execution_count": 2,
   "metadata": {},
   "outputs": [],
   "source": [
    "from simulator import Simulator, read_tle_satellites\n",
    "from api import SpaceObject, Agent, Environment"
   ]
  },
  {
   "cell_type": "code",
   "execution_count": 3,
   "metadata": {},
   "outputs": [
    {
     "data": {
      "text/plain": [
       "Planet Name: ISS (ZARYA)\n",
       "Own gravity parameter: 0.10000000000000001\n",
       "Central body gravity parameter: 398600800000000\n",
       "Planet radius: 0.10000000000000001\n",
       "Planet safe radius: 0.10000000000000001\n",
       "Ephemerides type: SGP4 propagator\n",
       "TLE epoch: 2017-Nov-26 17:09:01.999850\n",
       "TLE 1: 1 25544U 98067A   17330.71460648  .00003549  00000-0  60599-4 0  9994\n",
       "TLE 2: 2 25544  51.6430 308.0962 0004156 155.1593 190.3808 15.54237585 87025"
      ]
     },
     "execution_count": 3,
     "metadata": {},
     "output_type": "execute_result"
    }
   ],
   "source": [
    "sattelites = read_tle_satellites(\"stations.txt\")\n",
    "sattelites[0].satellite"
   ]
  },
  {
   "cell_type": "code",
   "execution_count": 4,
   "metadata": {},
   "outputs": [],
   "source": [
    "ISS, debris = sattelites[0], sattelites[1:4]\n",
    "# Example of SpaceObject with initial parameters: pos, v, epoch.\n",
    "pos, v = [2315921.25, 3814078.37, 5096751.46], [4363.18, 1981.83, 5982.45]\n",
    "epoch = pk.epoch_from_string(\"2017-Nov-27 15:16:20\")\n",
    "mu, f = 398600800000000, 1.0\n",
    "d1 = SpaceObject(\"Debris 1\", False, dict(\n",
    "    pos=pos, v=v, epoch=epoch, mu=mu, f=f))\n",
    "debris.append(d1)\n",
    "\n",
    "agent = Agent()\n",
    "env = Environment(ISS, debris)\n",
    "\n",
    "simulator = Simulator(agent, env)"
   ]
  },
  {
   "cell_type": "code",
   "execution_count": 5,
   "metadata": {},
   "outputs": [
    {
     "name": "stdout",
     "output_type": "stream",
     "text": [
      "Iter #1 \tEpoch: 2017-Nov-27 14:33:48\tCollision: False\n",
      "ISS (ZARYA) position: x - -1071756.49, y - -4911496.15, z - -4562842.34.      \n",
      "ISS (ZARYA) velocity: Vx - 5672.74, Vy - -4110.70, Vz - 3091.59      \n",
      "\n",
      "TIANGONG 1 position: x - -1931869.84, y - 6144927.73, z - -1703431.32.      \n",
      "TIANGONG 1 velocity: Vx - -5225.63, Vy - -2982.22, Vz - -4873.77      \n",
      "\n",
      "AGGIESAT 4 position: x - 3705565.01, y - -1888179.11, z - 5220682.03.      \n",
      "AGGIESAT 4 velocity: Vx - 3943.54, Vy - 6636.90, Vz - -398.47      \n",
      "\n",
      "FLOCK 2E'-1 position: x - -2219353.66, y - 4876294.93, z - -4044659.44.      \n",
      "FLOCK 2E'-1 velocity: Vx - -4245.34, Vy - -5133.55, Vz - -3866.05      \n",
      "\n",
      "Debris 1 position: x - -837059.82, y - -892090.64, z - 847906.64.      \n",
      "Debris 1 velocity: Vx - 0.00, Vy - -0.00, Vz - -0.00      \n",
      "\n",
      "Iter #2 \tEpoch: 2017-Nov-27 14:35:15.400000\tCollision: False\n",
      "ISS (ZARYA) position: x - -577325.09, y - -5242804.04, z - -4274449.72.      \n",
      "ISS (ZARYA) velocity: Vx - 5763.41, Vy - -3552.38, Vz - 3578.90      \n",
      "\n",
      "TIANGONG 1 position: x - -2372890.18, y - 5856790.91, z - -2115222.34.      \n",
      "TIANGONG 1 velocity: Vx - -4974.66, Vy - -3681.95, Vz - -4650.47      \n",
      "\n",
      "AGGIESAT 4 position: x - 4027252.23, y - -1306294.73, z - 5160215.84.      \n",
      "AGGIESAT 4 velocity: Vx - 3496.74, Vy - 6821.47, Vz - -1000.05      \n",
      "\n",
      "FLOCK 2E'-1 position: x - -2574658.59, y - 4409553.45, z - -4358231.25.      \n",
      "FLOCK 2E'-1 velocity: Vx - -3972.63, Vy - -5661.78, Vz - -3386.64      \n",
      "\n",
      "Debris 1 position: x - -837059.82, y - -892090.65, z - 847906.63.      \n",
      "Debris 1 velocity: Vx - 0.00, Vy - -0.00, Vz - -0.00      \n",
      "\n",
      "Iter #3 \tEpoch: 2017-Nov-27 14:36:41.800000\tCollision: False\n",
      "ISS (ZARYA) position: x - -77416.30, y - -5524367.25, z - -3945384.04.      \n",
      "ISS (ZARYA) velocity: Vx - 5799.43, Vy - -2960.10, Vz - 4032.35      \n",
      "\n",
      "TIANGONG 1 position: x - -2790053.52, y - 5509769.00, z - -2505684.14.      \n",
      "TIANGONG 1 velocity: Vx - -4673.87, Vy - -4344.16, Vz - -4380.46      \n",
      "\n",
      "AGGIESAT 4 position: x - 4308795.58, y - -711389.29, z - 5048160.32.      \n",
      "AGGIESAT 4 velocity: Vx - 3015.05, Vy - 6938.06, Vz - -1591.69      \n",
      "\n",
      "FLOCK 2E'-1 position: x - -2904703.91, y - 3899549.55, z - -4628919.04.      \n",
      "FLOCK 2E'-1 velocity: Vx - -3661.11, Vy - -6134.19, Vz - -2874.18      \n",
      "\n",
      "Debris 1 position: x - -837059.81, y - -892090.66, z - 847906.62.      \n",
      "Debris 1 velocity: Vx - 0.00, Vy - -0.00, Vz - -0.00      \n",
      "\n",
      "Iter #4 \tEpoch: 2017-Nov-27 14:38:08.200000\tCollision: False\n",
      "ISS (ZARYA) position: x - 423226.94, y - -5753491.32, z - -3578760.17.      \n",
      "ISS (ZARYA) velocity: Vx - 5780.39, Vy - -2339.46, Vz - 4447.61      \n",
      "\n",
      "TIANGONG 1 position: x - -3179187.01, y - 5107393.03, z - -2870898.55.      \n",
      "TIANGONG 1 velocity: Vx - -4326.38, Vy - -4962.23, Vz - -4066.55      \n",
      "\n",
      "AGGIESAT 4 position: x - 4547384.41, y - -109392.12, z - 4885630.78.      \n",
      "AGGIESAT 4 velocity: Vx - 2503.24, Vy - 6985.49, Vz - -2167.47      \n",
      "\n",
      "FLOCK 2E'-1 position: x - -3206266.06, y - 3351306.45, z - -4854082.44.      \n",
      "FLOCK 2E'-1 velocity: Vx - -3313.84, Vy - -6546.24, Vz - -2333.70      \n",
      "\n",
      "Debris 1 position: x - -837059.80, y - -892090.67, z - 847906.62.      \n",
      "Debris 1 velocity: Vx - 0.00, Vy - -0.00, Vz - -0.00      \n",
      "\n",
      "Iter #5 \tEpoch: 2017-Nov-27 14:39:34.600000\tCollision: False\n",
      "ISS (ZARYA) position: x - 919850.47, y - -5927975.50, z - -3178052.19.      \n",
      "ISS (ZARYA) velocity: Vx - 5706.44, Vy - -1696.29, Vz - 4820.70      \n",
      "\n",
      "TIANGONG 1 position: x - -3536407.17, y - 4653746.91, z - -3207208.99.      \n",
      "TIANGONG 1 velocity: Vx - -3935.77, Vy - -5530.00, Vz - -3711.96      \n",
      "\n",
      "AGGIESAT 4 position: x - 4740634.71, y - 493695.59, z - 4674246.32.      \n",
      "AGGIESAT 4 velocity: Vx - 1966.41, Vy - 6963.28, Vz - -2721.65      \n",
      "\n",
      "FLOCK 2E'-1 position: x - -3476401.72, y - 2770214.75, z - -5031527.94.      \n",
      "FLOCK 2E'-1 velocity: Vx - -2934.23, Vy - -6893.97, Vz - -1770.50      \n",
      "\n",
      "Debris 1 position: x - -837059.79, y - -892090.68, z - 847906.61.      \n",
      "Debris 1 velocity: Vx - 0.00, Vy - -0.00, Vz - -0.00      \n",
      "\n"
     ]
    }
   ],
   "source": [
    "simulator.run(N=5, vizualize=False)"
   ]
  },
  {
   "cell_type": "markdown",
   "metadata": {},
   "source": [
    "## How to make action: tle/keplerian object"
   ]
  },
  {
   "cell_type": "code",
   "execution_count": 6,
   "metadata": {
    "scrolled": false
   },
   "outputs": [
    {
     "name": "stdout",
     "output_type": "stream",
     "text": [
      "Planet Name: ISS (ZARYA)\n",
      "Own gravity parameter: 0.10000000000000001\n",
      "Central body gravity parameter: 398600800000000\n",
      "Planet radius: 0.10000000000000001\n",
      "Planet safe radius: 0.10000000000000001\n",
      "Ephemerides type: SGP4 propagator\n",
      "TLE epoch: 2017-Nov-26 17:09:01.999850\n",
      "TLE 1: 1 25544U 98067A   17330.71460648  .00003549  00000-0  60599-4 0  9994\n",
      "TLE 2: 2 25544  51.6430 308.0962 0004156 155.1593 190.3808 15.54237585 87025\n",
      "\n",
      "Planet Name: Debris 1\n",
      "Own gravity parameter: 0.10000000000000001\n",
      "Central body gravity parameter: 0.10000000000000001\n",
      "Planet radius: 0.10000000000000001\n",
      "Planet safe radius: 0.10000000000000001\n",
      "Keplerian planet elements: \n",
      "Semi major axis (AU): 6.3262783851715459e-06\n",
      "Eccentricity: 0.58301598987752301\n",
      "Inclination (deg.): 41.32350343757345\n",
      "Big Omega (deg.): 98.85099235724708\n",
      "Small omega (deg.): -65.165318566770935\n",
      "Mean anomaly (deg.): -162.98078591545399\n",
      "Elements reference epoch: 2017-Nov-27 15:16:20\n",
      "Ephemerides type: Keplerian\n",
      "r at ref. = [-837059.57504775457, -892090.94182482141, 847906.45958489401]\n",
      "v at ref. = [9.7970385426410526e-05, -0.00011983169398507535, -6.8903015725991297e-05]\n",
      "\n"
     ]
    }
   ],
   "source": [
    "t = pk.epoch_from_string(\"2017-Nov-27 15:16:20\")\n",
    "d1 = debris[-1]\n",
    "print(ISS.satellite)\n",
    "print(d1.satellite)"
   ]
  },
  {
   "cell_type": "code",
   "execution_count": 7,
   "metadata": {},
   "outputs": [
    {
     "data": {
      "text/plain": [
       "((-837059.5750477546, -892090.9418248214, 847906.459584894),\n",
       " (9.797038542641053e-05, -0.00011983169398507535, -6.89030157259913e-05))"
      ]
     },
     "execution_count": 7,
     "metadata": {},
     "output_type": "execute_result"
    }
   ],
   "source": [
    "d1.satellite.eph(t)"
   ]
  },
  {
   "cell_type": "code",
   "execution_count": 8,
   "metadata": {},
   "outputs": [
    {
     "data": {
      "image/png": "[encoded data removed]",
      "text/plain": [
       "<matplotlib.figure.Figure at 0x7faf3c0f5208>"
      ]
     },
     "metadata": {},
     "output_type": "display_data"
    },
    {
     "data": {
      "text/plain": [
       "<matplotlib.axes._subplots.Axes3DSubplot at 0x7faf06d8b6d8>"
      ]
     },
     "execution_count": 8,
     "metadata": {},
     "output_type": "execute_result"
    }
   ],
   "source": [
    "from pykep.orbit_plots import plot_planet\n",
    "\n",
    "plot_planet(d1.satellite)"
   ]
  },
  {
   "cell_type": "code",
   "execution_count": 20,
   "metadata": {},
   "outputs": [
    {
     "name": "stdout",
     "output_type": "stream",
     "text": [
      "[2315921.25, 3814078.37, 5096751.46]\n",
      "[4363.18, 1981.83, 5982.45]\n"
     ]
    }
   ],
   "source": [
    "pos, v = [2315921.25, 3814078.37, 5096751.46], [4363.18, 1981.83, 5982.45]\n",
    "print(pos)\n",
    "print(v)"
   ]
  },
  {
   "cell_type": "code",
   "execution_count": 38,
   "metadata": {},
   "outputs": [],
   "source": [
    "dV = [1000, 1000, 0]\n",
    "v_after_act = list(np.array(v) + np.array(dV))"
   ]
  },
  {
   "cell_type": "code",
   "execution_count": 39,
   "metadata": {},
   "outputs": [
    {
     "name": "stdout",
     "output_type": "stream",
     "text": [
      "[4363.18, 1981.83, 5982.45]\n",
      "[5363.1800000000003, 2981.8299999999999, 5982.4499999999998]\n"
     ]
    }
   ],
   "source": [
    "print(v)\n",
    "print(v_after_act)"
   ]
  },
  {
   "cell_type": "code",
   "execution_count": 40,
   "metadata": {},
   "outputs": [],
   "source": [
    "mu = 398600800000000\n",
    "d1_after_act = pk.planet.keplerian(t, pk.ic2eq(r=pos, v=v_after_act, mu=mu))"
   ]
  },
  {
   "cell_type": "code",
   "execution_count": 41,
   "metadata": {},
   "outputs": [
    {
     "name": "stdout",
     "output_type": "stream",
     "text": [
      "Planet Name: Unknown\n",
      "Own gravity parameter: 0.10000000000000001\n",
      "Central body gravity parameter: 0.10000000000000001\n",
      "Planet radius: 0.10000000000000001\n",
      "Planet safe radius: 0.10000000000000001\n",
      "Keplerian planet elements: \n",
      "Semi major axis (AU): 7.099980689369189e-06\n",
      "Eccentricity: 0.93853661019994417\n",
      "Inclination (deg.): 2.0364813729357083\n",
      "Big Omega (deg.): 62.138225656031288\n",
      "Small omega (deg.): -109.92523486035644\n",
      "Mean anomaly (deg.): -118.30096044824326\n",
      "Elements reference epoch: 2017-Nov-27 15:16:20\n",
      "Ephemerides type: Keplerian\n",
      "r at ref. = [-1416063.6555543053, 1267019.6797224097, 65570.865611574933]\n",
      "v at ref. = [2.5241947473004612e-05, -0.00010197765727446178, -2.4881582603239951e-06]\n",
      "\n",
      "Planet Name: Debris 1\n",
      "Own gravity parameter: 0.10000000000000001\n",
      "Central body gravity parameter: 0.10000000000000001\n",
      "Planet radius: 0.10000000000000001\n",
      "Planet safe radius: 0.10000000000000001\n",
      "Keplerian planet elements: \n",
      "Semi major axis (AU): 6.3262783851715459e-06\n",
      "Eccentricity: 0.58301598987752301\n",
      "Inclination (deg.): 41.32350343757345\n",
      "Big Omega (deg.): 98.85099235724708\n",
      "Small omega (deg.): -65.165318566770935\n",
      "Mean anomaly (deg.): -162.98078591545399\n",
      "Elements reference epoch: 2017-Nov-27 15:16:20\n",
      "Ephemerides type: Keplerian\n",
      "r at ref. = [-837059.57504775457, -892090.94182482141, 847906.45958489401]\n",
      "v at ref. = [9.7970385426410526e-05, -0.00011983169398507535, -6.8903015725991297e-05]\n",
      "\n"
     ]
    }
   ],
   "source": [
    "print(d1_after_act)\n",
    "print(d1.satellite)"
   ]
  },
  {
   "cell_type": "code",
   "execution_count": 42,
   "metadata": {},
   "outputs": [
    {
     "data": {
      "image/png": "[encoded data removed]",
      "text/plain": [
       "<matplotlib.figure.Figure at 0x7faf04b6d940>"
      ]
     },
     "metadata": {},
     "output_type": "display_data"
    }
   ],
   "source": [
    "fig = plt.figure()\n",
    "ax = fig.gca(projection='3d')\n",
    "plot_planet(d1_after_act, ax=ax)\n",
    "plot_planet(d1.satellite, ax=ax)\n",
    "plt.show()"
   ]
  },
  {
   "cell_type": "markdown",
   "metadata": {},
   "source": [
    "#### Вопрос:\n",
    "* Как правильно сделать изменение скорости во время движения? (можно ли сделать изменение прямо в объекте, или нужно создавать новый. Какие параметры передать в pk.ic2eq если нужно создавать новый объект? Возможно нужно оперировать оскеллирующими элементами а не pos,v,epoch? )\n",
    "* Как сделать action для TLE объектов? (можно ли задать ускорение и получить новые tle параметры)"
   ]
  },
  {
   "cell_type": "markdown",
   "metadata": {},
   "source": [
    "## Error while simulating:\n",
    "\n",
    "Iter #202 \tEpoch: 2018-Jun-17 19:10:52\tCollision: False\n",
    "ISS (ZARYA) position: x - 2294301.05, y - 4361138.35, z - 4647130.27.      \n",
    "ISS (ZARYA) velocity: Vx - -7073.77, Vy - 612.82, Vz - 2906.38      \n",
    "\n",
    "TIANGONG 1 position: x - -1044954.01, y - 5332539.98, z - 3341498.51.      \n",
    "TIANGONG 1 velocity: Vx - -6285.72, Vy - -3376.40, Vz - 3411.25      \n",
    "\n",
    "AGGIESAT 4 position: x - 4417318.58, y - 4517299.19, z - 989548.45.      \n",
    "AGGIESAT 4 velocity: Vx - -2875.75, Vy - 4153.74, Vz - -6072.23      \n",
    "\n",
    "FLOCK 2E'-1 position: x - 2417096.64, y - 5211513.51, z - 3147106.66.      \n",
    "FLOCK 2E'-1 velocity: Vx - -3892.48, Vy - 4733.31, Vz - -4832.39      \n",
    "\n",
    "Debris 1 position: x - -835344.47, y - -894179.90, z - 846699.02.      \n",
    "Debris 1 velocity: Vx - 0.00, Vy - -0.00, Vz - -0.00      \n",
    "\n",
    "Traceback (most recent call last):<br>\n",
    "  File \"simulator.py\", line 172, in <module><br>\n",
    "    main(sys.argv[1:])<br>\n",
    "  File \"simulator.py\", line 167, in main<br>\n",
    "    simulator.run(vizualize=vizualize, N=N, step=step)<br>\n",
    "  File \"simulator.py\", line 113, in run<br>\n",
    "    self.plot_debris()<br>\n",
    "  File \"simulator.py\", line 134, in plot_debris<br>\n",
    "    size=25, color=colors[i])<br>\n",
    "  File \"simulator.py\", line 61, in plot_planet<br>\n",
    "    t0=t, s=25, legend=True, color=color)<br>\n",
    "  File \"/usr/local/lib/python3.5/dist-packages/pykep/orbit_plots/_plots.py\", line 53, in plot_planet<br>\n",
    "    r, v = plnt.eph(epoch(t0.mjd2000 + day))<br>\n",
    "RuntimeError: Error: Satellite decayed<br>\n"
   ]
  },
  {
   "cell_type": "code",
   "execution_count": null,
   "metadata": {},
   "outputs": [],
   "source": []
  }
 ],
 "metadata": {
  "kernelspec": {
   "display_name": "Python 3",
   "language": "python",
   "name": "python3"
  },
  "language_info": {
   "codemirror_mode": {
    "name": "ipython",
    "version": 3
   },
   "file_extension": ".py",
   "mimetype": "text/x-python",
   "name": "python",
   "nbconvert_exporter": "python",
   "pygments_lexer": "ipython3",
   "version": "3.5.2"
  }
 },
 "nbformat": 4,
 "nbformat_minor": 2
}
