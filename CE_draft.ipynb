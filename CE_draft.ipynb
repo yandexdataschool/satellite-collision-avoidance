{
 "cells": [
  {
   "cell_type": "code",
   "execution_count": 48,
   "metadata": {
    "collapsed": true
   },
   "outputs": [],
   "source": [
    "import pandas as pd\n",
    "import numpy as np\n",
    "import pykep as pk\n",
    "import tqdm\n",
    "\n",
    "from simulator import Simulator, read_space_objects\n",
    "from api import Environment, MAX_FUEL_CONSUMPTION\n",
    "from agent import TableAgent as Agent\n",
    "\n",
    "from copy import copy\n",
    "\n",
    "np.random.seed(0)\n"
   ]
  },
  {
   "cell_type": "code",
   "execution_count": 49,
   "metadata": {
    "collapsed": true
   },
   "outputs": [],
   "source": [
    "start_time = 6599.95\n",
    "step = 0.0001\n",
    "end_time = 6600.05\n",
    "\n",
    "n_actions = 3\n",
    "time_space = np.arange(start_time, end_time, step)\n",
    "\n",
    "osc = read_space_objects(\"data/collision.osc\", \"osc\")\n",
    "protected = osc[0]\n",
    "debris = [osc[1]]\n",
    "start_time_mjd2000 = pk.epoch(start_time, \"mjd2000\")\n",
    "max_fuel_cons = MAX_FUEL_CONSUMPTION\n",
    "fuel_level = protected.get_fuel()"
   ]
  },
  {
   "cell_type": "code",
   "execution_count": 50,
   "metadata": {
    "collapsed": true
   },
   "outputs": [],
   "source": [
    "action_table = np.genfromtxt(\"data/action_table.csv\", delimiter=',', skip_header=True)\n",
    "agent = Agent(action_table)\n",
    "\n",
    "def generate_session(protected, debris, start_time, agent):\n",
    "    env = Environment(copy(protected), copy(debris), start_time)\n",
    "    simulator = Simulator(agent, env, update_r_p_step=None, print_out=False)\n",
    "    # reward\n",
    "    r = simulator.run(end_time, step, visualize=False)\n",
    "    return r"
   ]
  },
  {
   "cell_type": "code",
   "execution_count": 51,
   "metadata": {
    "collapsed": true
   },
   "outputs": [],
   "source": [
    "def get_random_on_interval(space, num, replace=False):\n",
    "    result = np.sort(np.random.choice(space, num, replace))\n",
    "    result = result - space[0]\n",
    "    result[1:] = result[1:] - result[:-1]\n",
    "    return result\n",
    "\n",
    "def get_random_time_to_req(time_space, n_actions, last_nan=True):\n",
    "    if last_nan:\n",
    "        n_actions -= 1\n",
    "    time_to_req = get_random_on_interval(time_space, n_actions)\n",
    "    if last_nan:\n",
    "        time_to_req = np.append(time_to_req, np.nan)\n",
    "    return time_to_req"
   ]
  },
  {
   "cell_type": "code",
   "execution_count": 52,
   "metadata": {},
   "outputs": [
    {
     "data": {
      "text/plain": [
       "array([[1],\n",
       "       [2],\n",
       "       [3]])"
      ]
     },
     "execution_count": 52,
     "metadata": {},
     "output_type": "execute_result"
    }
   ],
   "source": [
    "np.array([1,2,3]).reshape((-1,1))"
   ]
  },
  {
   "cell_type": "code",
   "execution_count": 53,
   "metadata": {
    "collapsed": true
   },
   "outputs": [],
   "source": [
    "def get_random_action_table(n_actions, time_space, fuel_level, max_fuel_cons, n_tables):\n",
    "    # TODO - first dV=0? like just observation?\n",
    "    action_tables = np.empty((n_tables, n_actions, 4))\n",
    "    for j in range(n_tables):\n",
    "        action_table = np.zeros((n_actions, 3))\n",
    "        total_fuel_cons = np.random.uniform(fuel_level)\n",
    "        for i in range(n_actions):\n",
    "            fuel_cons = min(np.random.uniform(high = total_fuel_cons), max_fuel_cons)\n",
    "            total_fuel_cons -= fuel_cons\n",
    "            dV = get_random_on_interval(np.linspace(0, fuel_cons), 3, True) - fuel_cons/2\n",
    "            action_table[i] = dV\n",
    "        idx = np.arange(n_actions)\n",
    "        np.random.shuffle(idx)\n",
    "        time_to_req = get_random_time_to_req(time_space, n_actions).reshape((-1,1))\n",
    "        action_table = np.hstack((action_table[idx], time_to_req))\n",
    "        action_tables[j] = action_table\n",
    "    return action_tables\n",
    "\n",
    "# act = get_random_action_table(n_actions, time_space, fuel_level, max_fuel_cons)\n",
    "# np.sum(np.abs(act[:, :-1]))\n",
    "# other statistics tests"
   ]
  },
  {
   "cell_type": "code",
   "execution_count": 54,
   "metadata": {},
   "outputs": [
    {
     "data": {
      "text/plain": [
       "6.6777152038264393"
      ]
     },
     "execution_count": 54,
     "metadata": {},
     "output_type": "execute_result"
    }
   ],
   "source": [
    "action_table = get_random_action_table(n_actions, time_space, fuel_level, max_fuel_cons, 1)[0]\n",
    "agent = Agent(action_table)\n",
    "generate_session(protected, debris, start_time_mjd2000, agent)"
   ]
  },
  {
   "cell_type": "code",
   "execution_count": 55,
   "metadata": {},
   "outputs": [
    {
     "data": {
      "text/plain": [
       "array([[-1.58807926, -1.80967171,  0.84943774,  0.0027    ],\n",
       "       [-0.04361632, -0.28039064, -0.14331077,  0.0778    ],\n",
       "       [-0.35528243, -0.20409842, -0.18898001,         nan]])"
      ]
     },
     "execution_count": 55,
     "metadata": {},
     "output_type": "execute_result"
    }
   ],
   "source": [
    "action_table"
   ]
  },
  {
   "cell_type": "code",
   "execution_count": 45,
   "metadata": {},
   "outputs": [
    {
     "name": "stderr",
     "output_type": "stream",
     "text": [
      " 50%|█████     | 1/2 [00:16<00:16, 16.38s/it]"
     ]
    },
    {
     "name": "stdout",
     "output_type": "stream",
     "text": [
      "[7.7406609151384025, 6.6650090839584042]\n",
      "[0]\n",
      "[]\n",
      "[]\n"
     ]
    },
    {
     "ename": "TypeError",
     "evalue": "only integer scalar arrays can be converted to a scalar index",
     "output_type": "error",
     "traceback": [
      "\u001b[0;31m---------------------------------------------------------------------------\u001b[0m",
      "\u001b[0;31mTypeError\u001b[0m                                 Traceback (most recent call last)",
      "\u001b[0;32m<ipython-input-45-cb2ba5969e7f>\u001b[0m in \u001b[0;36m<module>\u001b[0;34m()\u001b[0m\n\u001b[1;32m     17\u001b[0m     \u001b[0melite_indices\u001b[0m \u001b[0;34m=\u001b[0m \u001b[0mnp\u001b[0m\u001b[0;34m.\u001b[0m\u001b[0margsort\u001b[0m\u001b[0;34m(\u001b[0m\u001b[0mrewards\u001b[0m\u001b[0;34m)\u001b[0m\u001b[0;34m[\u001b[0m\u001b[0;34m-\u001b[0m\u001b[0mn_elite_sessions\u001b[0m\u001b[0;34m:\u001b[0m\u001b[0;34m]\u001b[0m\u001b[0;34m\u001b[0m\u001b[0m\n\u001b[1;32m     18\u001b[0m     \u001b[0mprint\u001b[0m\u001b[0;34m(\u001b[0m\u001b[0melite_indices\u001b[0m\u001b[0;34m)\u001b[0m\u001b[0;34m\u001b[0m\u001b[0m\n\u001b[0;32m---> 19\u001b[0;31m     \u001b[0melite_action_tables\u001b[0m \u001b[0;34m=\u001b[0m \u001b[0maction_tables\u001b[0m\u001b[0;34m[\u001b[0m\u001b[0melite_indices\u001b[0m\u001b[0;34m]\u001b[0m\u001b[0;34m\u001b[0m\u001b[0m\n\u001b[0m\u001b[1;32m     20\u001b[0m     \u001b[0mbest_action_table\u001b[0m \u001b[0;34m=\u001b[0m \u001b[0maction_tables\u001b[0m\u001b[0;34m[\u001b[0m\u001b[0;34m-\u001b[0m\u001b[0;36m1\u001b[0m\u001b[0;34m]\u001b[0m\u001b[0;34m\u001b[0m\u001b[0m\n\u001b[1;32m     21\u001b[0m \u001b[0;31m#     show_progress()\u001b[0m\u001b[0;34m\u001b[0m\u001b[0;34m\u001b[0m\u001b[0m\n",
      "\u001b[0;31mTypeError\u001b[0m: only integer scalar arrays can be converted to a scalar index"
     ]
    }
   ],
   "source": [
    "# training loop\n",
    "from tqdm import tqdm\n",
    "\n",
    "n_sessions = 2\n",
    "n_elite_sessions = 1\n",
    "log = []\n",
    "\n",
    "action_tables = get_random_action_table(n_actions, time_space, fuel_level, max_fuel_cons, n_sessions)\n",
    "\n",
    "for i in tqdm(range(2)):\n",
    "    rewards = []\n",
    "    for at in action_tables:\n",
    "        agent = Agent(at)\n",
    "        rewards.append(generate_session(protected, debris, start_time_mjd2000, agent))\n",
    "    # select_elites\n",
    "    elite_indices = np.argsort(rewards)[-n_elite_sessions:]\n",
    "    elite_action_tables = action_tables[elite_indices]\n",
    "    best_action_table = action_tables[-1]\n",
    "#     show_progress()\n",
    "    action_tables = []"
   ]
  }
 ],
 "metadata": {
  "kernelspec": {
   "display_name": "py333",
   "language": "python",
   "name": "py333"
  },
  "language_info": {
   "codemirror_mode": {
    "name": "ipython",
    "version": 3
   },
   "file_extension": ".py",
   "mimetype": "text/x-python",
   "name": "python",
   "nbconvert_exporter": "python",
   "pygments_lexer": "ipython3",
   "version": "3.5.2"
  }
 },
 "nbformat": 4,
 "nbformat_minor": 2
}
