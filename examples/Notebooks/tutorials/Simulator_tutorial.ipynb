{
 "cells": [
  {
   "cell_type": "markdown",
   "metadata": {},
   "source": [
    "# Simulator"
   ]
  },
  {
   "cell_type": "code",
   "execution_count": 1,
   "metadata": {
    "collapsed": true
   },
   "outputs": [],
   "source": [
    "import argparse\n",
    "import sys\n",
    "\n",
    "import numpy as np\n",
    "import pykep as pk\n",
    "\n",
    "from space_navigator.api import Environment\n",
    "from space_navigator.simulator import Simulator\n",
    "from space_navigator.agent import TableAgent as Agent\n",
    "from space_navigator.utils import read_environment\n",
    "\n",
    "# %matplotlib inline"
   ]
  },
  {
   "cell_type": "markdown",
   "metadata": {},
   "source": [
    "### Define simulation step"
   ]
  },
  {
   "cell_type": "code",
   "execution_count": 2,
   "metadata": {
    "collapsed": true
   },
   "outputs": [],
   "source": [
    "SIMULATION_STEP = 0.0001"
   ]
  },
  {
   "cell_type": "code",
   "execution_count": 3,
   "metadata": {
    "collapsed": true
   },
   "outputs": [],
   "source": [
    "# action_table_path = \n",
    "visualize = True\n",
    "print_out = True\n",
    "step, update_r_p_step = SIMULATION_STEP, SIMULATION_STEP"
   ]
  },
  {
   "cell_type": "code",
   "execution_count": 4,
   "metadata": {
    "collapsed": true
   },
   "outputs": [],
   "source": [
    "agent = Agent()"
   ]
  },
  {
   "cell_type": "code",
   "execution_count": 5,
   "metadata": {
    "collapsed": true
   },
   "outputs": [],
   "source": [
    "env_path = \"/home/dsdubov/Documents/HSE/2017/satellite/satellite-collision-avoidance/data/environments/collision.env\"\n",
    "env = read_environment(env_path)"
   ]
  },
  {
   "cell_type": "code",
   "execution_count": 6,
   "metadata": {
    "collapsed": true
   },
   "outputs": [],
   "source": [
    "simulator = Simulator(\n",
    "        agent, env, update_r_p_step=update_r_p_step, step=step)"
   ]
  },
  {
   "cell_type": "code",
   "execution_count": 8,
   "metadata": {},
   "outputs": [
    {
     "name": "stdout",
     "output_type": "stream",
     "text": [
      "Simulation started.\n",
      "\n",
      "Start time: 6599.95 \t End time: 6600.05 \t Simulation step:0.0001\n",
      "\n",
      "Protected SpaceObject:\n",
      "Planet Name: PROTECTED\n",
      "Own gravity parameter: 0.10000000000000001\n",
      "Central body gravity parameter: 398600800000000\n",
      "Planet radius: 100\n",
      "Planet safe radius: 100\n",
      "Keplerian planet elements: \n",
      "Semi major axis (AU): 5.2139779556830712e-05\n",
      "Eccentricity: 0.0010000000000000009\n",
      "Inclination (deg.): 1.0000000000002647\n",
      "Big Omega (deg.): 0\n",
      "Small omega (deg.): 0\n",
      "Mean anomaly (deg.): 133.15272943190911\n",
      "Elements reference epoch: 2018-Jan-25 22:47:59\n",
      "Ephemerides type: Keplerian\n",
      "r at ref. = [-5346721.5913499175, 5685598.8982786192, 99242.497925255666]\n",
      "v at ref. = [-5208.0194996818864, -4888.9679636130713, -85.337253236841875]\n",
      "\n",
      "Debris objects:\n",
      "\n",
      "Planet Name: DEBRIS\n",
      "Own gravity parameter: 0.10000000000000001\n",
      "Central body gravity parameter: 398600800000000\n",
      "Planet radius: 0.10000000000000001\n",
      "Planet safe radius: 0.10000000000000001\n",
      "Keplerian planet elements: \n",
      "Semi major axis (AU): 5.2139779556830672e-05\n",
      "Eccentricity: 0.001\n",
      "Inclination (deg.): 90\n",
      "Big Omega (deg.): 0\n",
      "Small omega (deg.): 0\n",
      "Mean anomaly (deg.): 0\n",
      "Elements reference epoch: 2018-Jan-26 00:00:00\n",
      "Ephemerides type: Keplerian\n",
      "r at ref. = [7792200, 0, 0]\n",
      "v at ref. = [0, 4.3816424186266515e-13, 7155.765109870571]\n",
      "\n",
      "Simulation ended.\n",
      "Collision probability: 0.14997256083536514.\n",
      "Reward: -1490.7256083536515.\n",
      "Fuel consumption: 0.0.\n"
     ]
    }
   ],
   "source": [
    "visualize = False\n",
    "print_out = True\n",
    "\n",
    "simulator.run(visualize=visualize, print_out=print_out)\n",
    "%matplotlib notebook"
   ]
  },
  {
   "cell_type": "code",
   "execution_count": null,
   "metadata": {
    "collapsed": true
   },
   "outputs": [],
   "source": []
  }
 ],
 "metadata": {
  "kernelspec": {
   "display_name": "Python 3",
   "language": "python",
   "name": "python3"
  },
  "language_info": {
   "codemirror_mode": {
    "name": "ipython",
    "version": 3
   },
   "file_extension": ".py",
   "mimetype": "text/x-python",
   "name": "python",
   "nbconvert_exporter": "python",
   "pygments_lexer": "ipython3",
   "version": "3.6.3"
  }
 },
 "nbformat": 4,
 "nbformat_minor": 2
}
