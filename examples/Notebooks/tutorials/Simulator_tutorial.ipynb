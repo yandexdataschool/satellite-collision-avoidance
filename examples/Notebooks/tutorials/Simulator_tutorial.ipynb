{
 "cells": [
  {
   "cell_type": "markdown",
   "metadata": {},
   "source": [
    "# Simulator"
   ]
  },
  {
   "cell_type": "code",
   "execution_count": 1,
   "metadata": {},
   "outputs": [],
   "source": [
    "import argparse\n",
    "import sys\n",
    "\n",
    "import numpy as np\n",
    "import pykep as pk\n",
    "\n",
    "from space_navigator.api import Environment\n",
    "from space_navigator.simulator import Simulator\n",
    "from space_navigator.agent import TableAgent as Agent\n",
    "from space_navigator.utils import read_environment\n",
    "\n",
    "# %matplotlib inline"
   ]
  },
  {
   "cell_type": "code",
   "execution_count": 2,
   "metadata": {},
   "outputs": [],
   "source": [
    "step = 0.000001\n",
    "visualize = True\n",
    "print_out = True"
   ]
  },
  {
   "cell_type": "code",
   "execution_count": 3,
   "metadata": {},
   "outputs": [],
   "source": [
    "action_table_path = None\n",
    "if action_table_path:\n",
    "    action_table = np.loadtxt(action_table_path, delimiter=',')\n",
    "else:\n",
    "    action_table = []\n",
    "agent = Agent(action_table)"
   ]
  },
  {
   "cell_type": "code",
   "execution_count": 4,
   "metadata": {},
   "outputs": [],
   "source": [
    "env_path = \"../../../data/environments/collision.env\"\n",
    "env = read_environment(env_path)"
   ]
  },
  {
   "cell_type": "code",
   "execution_count": 5,
   "metadata": {},
   "outputs": [],
   "source": [
    "simulator = Simulator(agent, env, step)"
   ]
  },
  {
   "cell_type": "code",
   "execution_count": 6,
   "metadata": {},
   "outputs": [
    {
     "name": "stdout",
     "output_type": "stream",
     "text": [
      "Simulation started.\n",
      "\n",
      "Start time: 6599.95 \t End time: 6600.05 \t Simulation step:1e-06\n",
      "\n",
      "Protected SpaceObject:\n",
      "Planet Name: PROTECTED\n",
      "Own gravity parameter: 0.10000000000000001\n",
      "Central body gravity parameter: 398600800000000\n",
      "Planet radius: 100\n",
      "Planet safe radius: 100\n",
      "Keplerian planet elements: \n",
      "Semi major axis (AU): 5.2139779556830672e-05\n",
      "Eccentricity: 0.001\n",
      "Inclination (deg.): 1\n",
      "Big Omega (deg.): 0\n",
      "Small omega (deg.): 0\n",
      "Mean anomaly (deg.): 0\n",
      "Elements reference epoch: 2018-Jan-26 00:00:00\n",
      "Ephemerides type: Keplerian\n",
      "r at ref. = [7792200, 0, 0]\n",
      "v at ref. = [0, 7154.6752521846111, 124.88532106719391]\n",
      "\n",
      "Debris objects:\n",
      "\n",
      "Planet Name: DEBRIS\n",
      "Own gravity parameter: 0.10000000000000001\n",
      "Central body gravity parameter: 398600800000000\n",
      "Planet radius: 0.10000000000000001\n",
      "Planet safe radius: 0.10000000000000001\n",
      "Keplerian planet elements: \n",
      "Semi major axis (AU): 5.2139779556830672e-05\n",
      "Eccentricity: 0.001\n",
      "Inclination (deg.): 90\n",
      "Big Omega (deg.): 0\n",
      "Small omega (deg.): 0\n",
      "Mean anomaly (deg.): 0\n",
      "Elements reference epoch: 2018-Jan-26 00:00:00\n",
      "Ephemerides type: Keplerian\n",
      "r at ref. = [7792200, 0, 0]\n",
      "v at ref. = [0, 4.3816424186266515e-13, 7155.765109870571]\n",
      "\n",
      "Simulation ended in 0.013382 sec.\n",
      "\n",
      "Maneuvers table:\n",
      "no maneuvers.\n",
      "\n",
      "Collisions (distance <= 2000 meters):\n",
      "    without maneuvers (total number: 3):\n",
      "        #1: at 6599.960325896741 with DEBRIS;\n",
      "        distance: 144.75; probability: 0.052722.\n",
      "        #2: at 6600.000000499995 with DEBRIS;\n",
      "        distance: 433.34; probability: 0.052722.\n",
      "        #3: at 6600.039674103259 with DEBRIS;\n",
      "        distance: 144.75; probability: 0.052722.\n",
      "\n",
      "Parameters table:\n",
      "             threshold  value w/o man  reward w/o man\n",
      "coll prob       0.0001        0.14997    -13489.53048\n",
      "fuel (|dV|)         10        0.00000        -0.00000\n",
      "dev a (m)          100        0.00000        -0.00000\n",
      "dev e             0.01       -0.00000        -0.00000\n",
      "dev i (rad)       0.01        0.00000        -0.00000\n",
      "dev W (rad)       0.01        0.00000        -0.00000\n",
      "dev w (rad)       0.01        0.00000        -0.00000\n",
      "dev M (rad)  not taken       -0.00000         0.00000\n"
     ]
    }
   ],
   "source": [
    "visualize = False\n",
    "print_out = True\n",
    "\n",
    "simulator.run(visualize=visualize, print_out=print_out)\n",
    "%matplotlib notebook"
   ]
  },
  {
   "cell_type": "code",
   "execution_count": null,
   "metadata": {},
   "outputs": [],
   "source": []
  }
 ],
 "metadata": {
  "kernelspec": {
   "display_name": "Python 3",
   "language": "python",
   "name": "python3"
  },
  "language_info": {
   "codemirror_mode": {
    "name": "ipython",
    "version": 3
   },
   "file_extension": ".py",
   "mimetype": "text/x-python",
   "name": "python",
   "nbconvert_exporter": "python",
   "pygments_lexer": "ipython3",
   "version": "3.6.6"
  }
 },
 "nbformat": 4,
 "nbformat_minor": 2
}
