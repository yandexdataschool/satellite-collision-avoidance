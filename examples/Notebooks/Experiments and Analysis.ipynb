{
 "cells": [
  {
   "cell_type": "markdown",
   "metadata": {},
   "source": [
    "**If sample and actions tables are already there, steps \"sample\" and \"maneuvers\" could be skipped.**"
   ]
  },
  {
   "cell_type": "markdown",
   "metadata": {},
   "source": [
    "___\n",
    "TODO:\n",
    "\n",
    "* class Collision? to utils?\n",
    "\n",
    "* create new notebook with a lot of model like \"CE_collinear\", \"CE_reverse_complanar\"...\n",
    "\n",
    "* посмотреть разные пороги\n",
    "\n",
    "* эксперименты с reward_function\n",
    "\n",
    "* включить все модели"
   ]
  },
  {
   "cell_type": "code",
   "execution_count": 1,
   "metadata": {},
   "outputs": [],
   "source": [
    "import os\n",
    "import numpy as np\n",
    "import pandas as pd\n",
    "\n",
    "from space_navigator.generator import Generator\n",
    "from space_navigator.simulator import Simulator\n",
    "from space_navigator.api import Environment\n",
    "from space_navigator.agent.table_agent import TableAgent\n",
    "from space_navigator.utils import read_environment, get_agent\n",
    "\n",
    "from space_navigator.models.CE import CrossEntropy\n",
    "from space_navigator.models.ES import EvolutionStrategies\n",
    "from space_navigator.models.MCTS import DecisionTree\n",
    "from space_navigator.models.baseline import Baseline\n",
    "\n",
    "from IPython.display import clear_output\n",
    "from tqdm import trange\n",
    "from pprint import pprint"
   ]
  },
  {
   "cell_type": "code",
   "execution_count": 2,
   "metadata": {},
   "outputs": [],
   "source": [
    "n_situations = 20\n",
    "step = 0.000001\n",
    "\n",
    "models = {\n",
    "    \"CE\": CrossEntropy,\n",
    "#     \"ES\": EvolutionStrategies,\n",
    "#     \"MCTS\": DecisionTree,\n",
    "    \"baseline\": Baseline,\n",
    "}\n",
    "\n",
    "save_dir_env = \"../../data/environments/generated_sample\"\n",
    "save_dir_maneuvers = \"../../training/agents_tables/generated_sample\"\n",
    "\n",
    "\n",
    "if not os.path.exists(save_dir_env):\n",
    "    os.makedirs(save_dir_env)\n",
    "if not os.path.exists(save_dir_maneuvers):\n",
    "    os.makedirs(save_dir_maneuvers)"
   ]
  },
  {
   "cell_type": "code",
   "execution_count": 3,
   "metadata": {},
   "outputs": [],
   "source": [
    "collisions = {f\"collision_{i}\" : {} for i in range(n_situations)}\n",
    "for name in collisions:\n",
    "    collisions[name][\"env_path\"] = os.path.join(\n",
    "        save_dir_env, name + \".env\")\n",
    "    collisions[name][\"models_path\"] = {}\n",
    "    for model_name in models:\n",
    "        collisions[name][\"models_path\"][model_name] = os.path.join(\n",
    "            save_dir_maneuvers, f\"{name}_{model_name}.env\")"
   ]
  },
  {
   "cell_type": "markdown",
   "metadata": {},
   "source": [
    "# Sample"
   ]
  },
  {
   "cell_type": "code",
   "execution_count": 4,
   "metadata": {},
   "outputs": [],
   "source": [
    "# generator parameters\n",
    "start_time = 6600\n",
    "end_time = 6602\n",
    "n_debris = 2"
   ]
  },
  {
   "cell_type": "code",
   "execution_count": 5,
   "metadata": {},
   "outputs": [],
   "source": [
    "# sample of environments\n",
    "for name in collisions:\n",
    "    generator = Generator(start_time, end_time)\n",
    "    generator.add_protected()\n",
    "    for _ in range(n_debris):\n",
    "        generator.add_debris()\n",
    "    generator.save_env(\n",
    "        collisions[name][\"env_path\"])"
   ]
  },
  {
   "cell_type": "markdown",
   "metadata": {},
   "source": [
    "# Maneuvers"
   ]
  },
  {
   "cell_type": "code",
   "execution_count": 7,
   "metadata": {},
   "outputs": [],
   "source": [
    "# models and parameters\n",
    "\n",
    "train_params = {}\n",
    "# попробовать немного n_s но большое число итераций (без сдвига и компланар)\n",
    "train_params[\"CE\"] = {\n",
    "    \"init\": {\n",
    "        \"reverse\": True,\n",
    "        \"first_maneuver_time\":\"early\",\n",
    "        \"n_maneuvers\": 2,\n",
    "    },\n",
    "    \"train\": {\n",
    "        \"n_iterations\": 100,\n",
    "        \"n_sessions\": 30, \n",
    "        \"dV_angle\": \"complanar\",\n",
    "        \"early_stopping\": True,\n",
    "    },\n",
    "}\n",
    "# train_params[\"ES\"] = {\n",
    "#     \"init\": {\n",
    "#         \"reverse\": \"True\",\n",
    "#     },\n",
    "#     \"iteration\": {\n",
    "#         \"n_sessions\": 200,\n",
    "#     },\n",
    "# }\n",
    "# train_params[\"MCTS\"] = {\n",
    "#     \"init\": {},\n",
    "#     \"n_iterations\": n_iterations,\n",
    "# }\n",
    "train_params[\"baseline\"] = {\n",
    "    \"init\": {\n",
    "        \"reverse\": \"True\",\n",
    "    },\n",
    "    \"train\": {\n",
    "        \"n_sessions\": 300,\n",
    "    },\n",
    "}"
   ]
  },
  {
   "cell_type": "code",
   "execution_count": 8,
   "metadata": {
    "scrolled": true
   },
   "outputs": [
    {
     "name": "stderr",
     "output_type": "stream",
     "text": [
      "\r",
      "  0%|          | 0/300 [00:00<?, ?it/s]"
     ]
    },
    {
     "name": "stdout",
     "output_type": "stream",
     "text": [
      "env: 20 of 20\n",
      "model: baseline\n"
     ]
    },
    {
     "name": "stderr",
     "output_type": "stream",
     "text": [
      "100%|██████████| 300/300 [00:17<00:00, 17.06it/s]\n"
     ]
    }
   ],
   "source": [
    "# training\n",
    "for i, collision_name in enumerate(collisions):\n",
    "    env = read_environment(collisions[collision_name][\"env_path\"])\n",
    "    for model_name in models:\n",
    "        clear_output(True)\n",
    "        print(\"env: {} of {}\\nmodel: {}\".format(\n",
    "            i+1, len(collisions), model_name))\n",
    "        model = models[model_name](env, step, train_params[model_name][\"init\"])\n",
    "        model.train(**train_params[model_name][\"train\"])\n",
    "        model.save_action_table(\n",
    "            collisions[collision_name][\"models_path\"][model_name])\n"
   ]
  },
  {
   "cell_type": "markdown",
   "metadata": {},
   "source": [
    "# Results"
   ]
  },
  {
   "cell_type": "code",
   "execution_count": 9,
   "metadata": {},
   "outputs": [],
   "source": [
    "def collision_info(env, agent, model_name):\n",
    "    index = [\n",
    "        \"coll prob\", \"fuel (|dV|)\",\n",
    "        \"dev a (m)\", \"dev e\", \"dev i (rad)\",\n",
    "        \"dev W (rad)\", \"dev w (rad)\", \"dev M (rad)\",\n",
    "    ]\n",
    "    v = model_name + \" value\"\n",
    "    r = model_name + \" reward\"\n",
    "    columns = [r, v]\n",
    "    df = pd.DataFrame(index=index,columns=[v, r])\n",
    "    simulator = Simulator(agent, env, step)\n",
    "    simulator.run()\n",
    "    \n",
    "    df[v][\"coll prob\"] = env.get_total_collision_probability()\n",
    "    df[v][\"fuel (|dV|)\"] = env.get_fuel_consumption()\n",
    "    df[v][2:] = env.get_trajectory_deviation()\n",
    "    reward_components = env.get_reward_components()\n",
    "    df[r][\"coll prob\"] = reward_components[\"coll_prob\"]\n",
    "    df[r][\"fuel (|dV|)\"] = reward_components[\"fuel\"]\n",
    "    df[r][2:] = reward_components[\"traj_dev\"]\n",
    "    \n",
    "    env.reset()\n",
    "    return df"
   ]
  },
  {
   "cell_type": "code",
   "execution_count": 10,
   "metadata": {},
   "outputs": [],
   "source": [
    "def env_thresholds(env):\n",
    "    index = [\n",
    "        \"coll prob\", \"fuel (|dV|)\",\n",
    "        \"dev a (m)\", \"dev e\", \"dev i (rad)\",\n",
    "        \"dev W (rad)\", \"dev w (rad)\", \"dev M (rad)\",\n",
    "    ]\n",
    "    data = [env.coll_prob_thr, env.fuel_cons_thr] + list(env.traj_dev_thr)\n",
    "    df = pd.DataFrame(data, index,[\"threshold\"])\n",
    "#     df[\"threshold\"].fillna(value=\"not taken\", inplace=True)\n",
    "    return df"
   ]
  },
  {
   "cell_type": "code",
   "execution_count": 11,
   "metadata": {},
   "outputs": [
    {
     "name": "stderr",
     "output_type": "stream",
     "text": [
      "/usr/local/lib/python3.6/dist-packages/space_navigator-1.0-py3.6.egg/space_navigator/utils/utils.py:125: UserWarning: loadtxt: Empty input file: \"../../training/agents_tables/generated_sample/collision_5_baseline.env\"\n"
     ]
    }
   ],
   "source": [
    "for collision in collisions.values():\n",
    "    env = read_environment(collision[\"env_path\"])\n",
    "    result_table = env_thresholds(env)\n",
    "    empty_agent = TableAgent()\n",
    "    result_table = result_table.join(\n",
    "        collision_info(env, empty_agent, \"without maneuvers\"),\n",
    "    )\n",
    "    for model_name, model_path in collision[\"models_path\"].items():\n",
    "        agent = get_agent(\"table\", model_path)        \n",
    "        result_table = result_table.join(\n",
    "            collision_info(env, agent, model_name)\n",
    "        )\n",
    "    collision[\"result_table\"] = result_table"
   ]
  },
  {
   "cell_type": "code",
   "execution_count": 12,
   "metadata": {},
   "outputs": [
    {
     "data": {
      "text/html": [
       "<div>\n",
       "<style>\n",
       "    .dataframe thead tr:only-child th {\n",
       "        text-align: right;\n",
       "    }\n",
       "\n",
       "    .dataframe thead th {\n",
       "        text-align: left;\n",
       "    }\n",
       "\n",
       "    .dataframe tbody tr th {\n",
       "        vertical-align: top;\n",
       "    }\n",
       "</style>\n",
       "<table border=\"1\" class=\"dataframe\">\n",
       "  <thead>\n",
       "    <tr style=\"text-align: right;\">\n",
       "      <th></th>\n",
       "      <th>threshold</th>\n",
       "      <th>without maneuvers value</th>\n",
       "      <th>without maneuvers reward</th>\n",
       "      <th>CE value</th>\n",
       "      <th>CE reward</th>\n",
       "      <th>baseline value</th>\n",
       "      <th>baseline reward</th>\n",
       "    </tr>\n",
       "  </thead>\n",
       "  <tbody>\n",
       "    <tr>\n",
       "      <th>coll prob</th>\n",
       "      <td>0.0001</td>\n",
       "      <td>0.010226</td>\n",
       "      <td>-912.342</td>\n",
       "      <td>8.00753e-08</td>\n",
       "      <td>-0.000800753</td>\n",
       "      <td>1.58675e-08</td>\n",
       "      <td>-0.000158675</td>\n",
       "    </tr>\n",
       "    <tr>\n",
       "      <th>fuel (|dV|)</th>\n",
       "      <td>10.0000</td>\n",
       "      <td>0</td>\n",
       "      <td>-0</td>\n",
       "      <td>0.0326906</td>\n",
       "      <td>-0.00326906</td>\n",
       "      <td>0.100334</td>\n",
       "      <td>-0.0100334</td>\n",
       "    </tr>\n",
       "    <tr>\n",
       "      <th>dev a (m)</th>\n",
       "      <td>100.0000</td>\n",
       "      <td>0</td>\n",
       "      <td>-0</td>\n",
       "      <td>9.71026</td>\n",
       "      <td>-0.0971026</td>\n",
       "      <td>17.7254</td>\n",
       "      <td>-0.177254</td>\n",
       "    </tr>\n",
       "    <tr>\n",
       "      <th>dev e</th>\n",
       "      <td>0.0100</td>\n",
       "      <td>-0</td>\n",
       "      <td>-0</td>\n",
       "      <td>-1e-06</td>\n",
       "      <td>-0.0001</td>\n",
       "      <td>-1e-06</td>\n",
       "      <td>-0.0001</td>\n",
       "    </tr>\n",
       "    <tr>\n",
       "      <th>dev i (rad)</th>\n",
       "      <td>0.0100</td>\n",
       "      <td>0</td>\n",
       "      <td>-0</td>\n",
       "      <td>0</td>\n",
       "      <td>-0</td>\n",
       "      <td>0</td>\n",
       "      <td>-0</td>\n",
       "    </tr>\n",
       "    <tr>\n",
       "      <th>dev W (rad)</th>\n",
       "      <td>0.0100</td>\n",
       "      <td>0</td>\n",
       "      <td>-0</td>\n",
       "      <td>0</td>\n",
       "      <td>-0</td>\n",
       "      <td>0</td>\n",
       "      <td>-0</td>\n",
       "    </tr>\n",
       "    <tr>\n",
       "      <th>dev w (rad)</th>\n",
       "      <td>0.0100</td>\n",
       "      <td>0</td>\n",
       "      <td>-0</td>\n",
       "      <td>-0.000645</td>\n",
       "      <td>-0.0645</td>\n",
       "      <td>0.002342</td>\n",
       "      <td>-0.2342</td>\n",
       "    </tr>\n",
       "    <tr>\n",
       "      <th>dev M (rad)</th>\n",
       "      <td>NaN</td>\n",
       "      <td>-0</td>\n",
       "      <td>0</td>\n",
       "      <td>0.000616</td>\n",
       "      <td>0</td>\n",
       "      <td>-0.002214</td>\n",
       "      <td>0</td>\n",
       "    </tr>\n",
       "  </tbody>\n",
       "</table>\n",
       "</div>"
      ],
      "text/plain": [
       "             threshold without maneuvers value without maneuvers reward  \\\n",
       "coll prob       0.0001                0.010226                 -912.342   \n",
       "fuel (|dV|)    10.0000                       0                       -0   \n",
       "dev a (m)     100.0000                       0                       -0   \n",
       "dev e           0.0100                      -0                       -0   \n",
       "dev i (rad)     0.0100                       0                       -0   \n",
       "dev W (rad)     0.0100                       0                       -0   \n",
       "dev w (rad)     0.0100                       0                       -0   \n",
       "dev M (rad)        NaN                      -0                        0   \n",
       "\n",
       "                CE value    CE reward baseline value baseline reward  \n",
       "coll prob    8.00753e-08 -0.000800753    1.58675e-08    -0.000158675  \n",
       "fuel (|dV|)    0.0326906  -0.00326906       0.100334      -0.0100334  \n",
       "dev a (m)        9.71026   -0.0971026        17.7254       -0.177254  \n",
       "dev e             -1e-06      -0.0001         -1e-06         -0.0001  \n",
       "dev i (rad)            0           -0              0              -0  \n",
       "dev W (rad)            0           -0              0              -0  \n",
       "dev w (rad)    -0.000645      -0.0645       0.002342         -0.2342  \n",
       "dev M (rad)     0.000616            0      -0.002214               0  "
      ]
     },
     "execution_count": 12,
     "metadata": {},
     "output_type": "execute_result"
    }
   ],
   "source": [
    "collisions[\"collision_0\"][\"result_table\"]"
   ]
  },
  {
   "cell_type": "markdown",
   "metadata": {},
   "source": [
    "# Analysis of results"
   ]
  },
  {
   "cell_type": "markdown",
   "metadata": {},
   "source": [
    "### Rewards"
   ]
  },
  {
   "cell_type": "code",
   "execution_count": 13,
   "metadata": {},
   "outputs": [
    {
     "data": {
      "text/html": [
       "<div>\n",
       "<style>\n",
       "    .dataframe thead tr:only-child th {\n",
       "        text-align: right;\n",
       "    }\n",
       "\n",
       "    .dataframe thead th {\n",
       "        text-align: left;\n",
       "    }\n",
       "\n",
       "    .dataframe tbody tr th {\n",
       "        vertical-align: top;\n",
       "    }\n",
       "</style>\n",
       "<table border=\"1\" class=\"dataframe\">\n",
       "  <thead>\n",
       "    <tr style=\"text-align: right;\">\n",
       "      <th></th>\n",
       "      <th>without maneuvers</th>\n",
       "      <th>CE</th>\n",
       "      <th>baseline</th>\n",
       "    </tr>\n",
       "  </thead>\n",
       "  <tbody>\n",
       "    <tr>\n",
       "      <th>collision_0</th>\n",
       "      <td>-912.342</td>\n",
       "      <td>-0.165772</td>\n",
       "      <td>-0.421747</td>\n",
       "    </tr>\n",
       "    <tr>\n",
       "      <th>collision_1</th>\n",
       "      <td>-65.4681</td>\n",
       "      <td>-0.253552</td>\n",
       "      <td>-0.416452</td>\n",
       "    </tr>\n",
       "    <tr>\n",
       "      <th>collision_2</th>\n",
       "      <td>-2866.11</td>\n",
       "      <td>-0.932951</td>\n",
       "      <td>-3.12509</td>\n",
       "    </tr>\n",
       "    <tr>\n",
       "      <th>collision_3</th>\n",
       "      <td>-272.272</td>\n",
       "      <td>-0.149049</td>\n",
       "      <td>-0.978543</td>\n",
       "    </tr>\n",
       "    <tr>\n",
       "      <th>collision_4</th>\n",
       "      <td>-1610.61</td>\n",
       "      <td>-0.0855042</td>\n",
       "      <td>-11.6789</td>\n",
       "    </tr>\n",
       "  </tbody>\n",
       "</table>\n",
       "</div>"
      ],
      "text/plain": [
       "            without maneuvers         CE  baseline\n",
       "collision_0          -912.342  -0.165772 -0.421747\n",
       "collision_1          -65.4681  -0.253552 -0.416452\n",
       "collision_2          -2866.11  -0.932951  -3.12509\n",
       "collision_3          -272.272  -0.149049 -0.978543\n",
       "collision_4          -1610.61 -0.0855042  -11.6789"
      ]
     },
     "execution_count": 13,
     "metadata": {},
     "output_type": "execute_result"
    }
   ],
   "source": [
    "model_names = [\"without maneuvers\"] + list(models)\n",
    "results_reward = pd.DataFrame(index=model_names, columns=collisions)\n",
    "for collision_name in results_reward:\n",
    "    for model_name in model_names:\n",
    "        r = np.sum(\n",
    "            collisions[collision_name][\"result_table\"][model_name + \" reward\"]\n",
    "        )\n",
    "        results_reward.loc[model_name, collision_name] = r\n",
    "results_reward = results_reward.T\n",
    "results_reward.head()"
   ]
  },
  {
   "cell_type": "code",
   "execution_count": 14,
   "metadata": {},
   "outputs": [
    {
     "data": {
      "text/html": [
       "<div>\n",
       "<style>\n",
       "    .dataframe thead tr:only-child th {\n",
       "        text-align: right;\n",
       "    }\n",
       "\n",
       "    .dataframe thead th {\n",
       "        text-align: left;\n",
       "    }\n",
       "\n",
       "    .dataframe tbody tr th {\n",
       "        vertical-align: top;\n",
       "    }\n",
       "</style>\n",
       "<table border=\"1\" class=\"dataframe\">\n",
       "  <thead>\n",
       "    <tr style=\"text-align: right;\">\n",
       "      <th></th>\n",
       "      <th>without maneuvers</th>\n",
       "      <th>CE</th>\n",
       "      <th>baseline</th>\n",
       "    </tr>\n",
       "  </thead>\n",
       "  <tbody>\n",
       "    <tr>\n",
       "      <th>collision_0</th>\n",
       "      <td>-912.342</td>\n",
       "      <td>-0.165772</td>\n",
       "      <td>-0.421747</td>\n",
       "    </tr>\n",
       "    <tr>\n",
       "      <th>collision_1</th>\n",
       "      <td>-65.4681</td>\n",
       "      <td>-0.253552</td>\n",
       "      <td>-0.416452</td>\n",
       "    </tr>\n",
       "    <tr>\n",
       "      <th>collision_2</th>\n",
       "      <td>-2866.11</td>\n",
       "      <td>-0.932951</td>\n",
       "      <td>-3.12509</td>\n",
       "    </tr>\n",
       "    <tr>\n",
       "      <th>collision_3</th>\n",
       "      <td>-272.272</td>\n",
       "      <td>-0.149049</td>\n",
       "      <td>-0.978543</td>\n",
       "    </tr>\n",
       "    <tr>\n",
       "      <th>collision_4</th>\n",
       "      <td>-1610.61</td>\n",
       "      <td>-0.0855042</td>\n",
       "      <td>-11.6789</td>\n",
       "    </tr>\n",
       "  </tbody>\n",
       "</table>\n",
       "</div>"
      ],
      "text/plain": [
       "            without maneuvers         CE  baseline\n",
       "collision_0          -912.342  -0.165772 -0.421747\n",
       "collision_1          -65.4681  -0.253552 -0.416452\n",
       "collision_2          -2866.11  -0.932951  -3.12509\n",
       "collision_3          -272.272  -0.149049 -0.978543\n",
       "collision_4          -1610.61 -0.0855042  -11.6789"
      ]
     },
     "execution_count": 14,
     "metadata": {},
     "output_type": "execute_result"
    }
   ],
   "source": [
    "results_reward.head()"
   ]
  },
  {
   "cell_type": "code",
   "execution_count": 15,
   "metadata": {
    "scrolled": true
   },
   "outputs": [
    {
     "name": "stdout",
     "output_type": "stream",
     "text": [
      "RL better than Baseline in 19 out of 20 cases.\n"
     ]
    },
    {
     "data": {
      "text/html": [
       "<div>\n",
       "<style>\n",
       "    .dataframe thead tr:only-child th {\n",
       "        text-align: right;\n",
       "    }\n",
       "\n",
       "    .dataframe thead th {\n",
       "        text-align: left;\n",
       "    }\n",
       "\n",
       "    .dataframe tbody tr th {\n",
       "        vertical-align: top;\n",
       "    }\n",
       "</style>\n",
       "<table border=\"1\" class=\"dataframe\">\n",
       "  <thead>\n",
       "    <tr style=\"text-align: right;\">\n",
       "      <th></th>\n",
       "      <th>without maneuvers</th>\n",
       "      <th>CE</th>\n",
       "      <th>baseline</th>\n",
       "    </tr>\n",
       "  </thead>\n",
       "  <tbody>\n",
       "    <tr>\n",
       "      <th>collision_0</th>\n",
       "      <td>-912.342</td>\n",
       "      <td>-0.165772</td>\n",
       "      <td>-0.421747</td>\n",
       "    </tr>\n",
       "    <tr>\n",
       "      <th>collision_1</th>\n",
       "      <td>-65.4681</td>\n",
       "      <td>-0.253552</td>\n",
       "      <td>-0.416452</td>\n",
       "    </tr>\n",
       "    <tr>\n",
       "      <th>collision_2</th>\n",
       "      <td>-2866.11</td>\n",
       "      <td>-0.932951</td>\n",
       "      <td>-3.12509</td>\n",
       "    </tr>\n",
       "    <tr>\n",
       "      <th>collision_3</th>\n",
       "      <td>-272.272</td>\n",
       "      <td>-0.149049</td>\n",
       "      <td>-0.978543</td>\n",
       "    </tr>\n",
       "    <tr>\n",
       "      <th>collision_4</th>\n",
       "      <td>-1610.61</td>\n",
       "      <td>-0.0855042</td>\n",
       "      <td>-11.6789</td>\n",
       "    </tr>\n",
       "    <tr>\n",
       "      <th>collision_5</th>\n",
       "      <td>-0.394703</td>\n",
       "      <td>-0.0699706</td>\n",
       "      <td>-0.394703</td>\n",
       "    </tr>\n",
       "    <tr>\n",
       "      <th>collision_6</th>\n",
       "      <td>-83.7167</td>\n",
       "      <td>-0.0295319</td>\n",
       "      <td>-0.308108</td>\n",
       "    </tr>\n",
       "    <tr>\n",
       "      <th>collision_7</th>\n",
       "      <td>-363.039</td>\n",
       "      <td>-0.118988</td>\n",
       "      <td>-0.220543</td>\n",
       "    </tr>\n",
       "    <tr>\n",
       "      <th>collision_8</th>\n",
       "      <td>-304.607</td>\n",
       "      <td>-0.097092</td>\n",
       "      <td>-0.337395</td>\n",
       "    </tr>\n",
       "    <tr>\n",
       "      <th>collision_9</th>\n",
       "      <td>-2659.08</td>\n",
       "      <td>-0.169165</td>\n",
       "      <td>-0.282439</td>\n",
       "    </tr>\n",
       "    <tr>\n",
       "      <th>collision_10</th>\n",
       "      <td>-1759.78</td>\n",
       "      <td>-0.0833709</td>\n",
       "      <td>-0.187182</td>\n",
       "    </tr>\n",
       "    <tr>\n",
       "      <th>collision_11</th>\n",
       "      <td>-1177.09</td>\n",
       "      <td>-0.965296</td>\n",
       "      <td>-2.25937</td>\n",
       "    </tr>\n",
       "    <tr>\n",
       "      <th>collision_12</th>\n",
       "      <td>-502.048</td>\n",
       "      <td>-0.249545</td>\n",
       "      <td>-3.03773</td>\n",
       "    </tr>\n",
       "    <tr>\n",
       "      <th>collision_13</th>\n",
       "      <td>-104.042</td>\n",
       "      <td>-0.287858</td>\n",
       "      <td>-1.12616</td>\n",
       "    </tr>\n",
       "    <tr>\n",
       "      <th>collision_14</th>\n",
       "      <td>-869.138</td>\n",
       "      <td>-0.16528</td>\n",
       "      <td>-0.348726</td>\n",
       "    </tr>\n",
       "    <tr>\n",
       "      <th>collision_15</th>\n",
       "      <td>-2668.42</td>\n",
       "      <td>-0.0442994</td>\n",
       "      <td>-0.16651</td>\n",
       "    </tr>\n",
       "    <tr>\n",
       "      <th>collision_16</th>\n",
       "      <td>-330.99</td>\n",
       "      <td>-0.178724</td>\n",
       "      <td>-0.542548</td>\n",
       "    </tr>\n",
       "    <tr>\n",
       "      <th>collision_17</th>\n",
       "      <td>-187.199</td>\n",
       "      <td>-0.0709619</td>\n",
       "      <td>-1.59342</td>\n",
       "    </tr>\n",
       "    <tr>\n",
       "      <th>collision_18</th>\n",
       "      <td>-1595.5</td>\n",
       "      <td>-0.235303</td>\n",
       "      <td>-28.7625</td>\n",
       "    </tr>\n",
       "  </tbody>\n",
       "</table>\n",
       "</div>"
      ],
      "text/plain": [
       "             without maneuvers         CE  baseline\n",
       "collision_0           -912.342  -0.165772 -0.421747\n",
       "collision_1           -65.4681  -0.253552 -0.416452\n",
       "collision_2           -2866.11  -0.932951  -3.12509\n",
       "collision_3           -272.272  -0.149049 -0.978543\n",
       "collision_4           -1610.61 -0.0855042  -11.6789\n",
       "collision_5          -0.394703 -0.0699706 -0.394703\n",
       "collision_6           -83.7167 -0.0295319 -0.308108\n",
       "collision_7           -363.039  -0.118988 -0.220543\n",
       "collision_8           -304.607  -0.097092 -0.337395\n",
       "collision_9           -2659.08  -0.169165 -0.282439\n",
       "collision_10          -1759.78 -0.0833709 -0.187182\n",
       "collision_11          -1177.09  -0.965296  -2.25937\n",
       "collision_12          -502.048  -0.249545  -3.03773\n",
       "collision_13          -104.042  -0.287858  -1.12616\n",
       "collision_14          -869.138   -0.16528 -0.348726\n",
       "collision_15          -2668.42 -0.0442994  -0.16651\n",
       "collision_16           -330.99  -0.178724 -0.542548\n",
       "collision_17          -187.199 -0.0709619  -1.59342\n",
       "collision_18           -1595.5  -0.235303  -28.7625"
      ]
     },
     "execution_count": 15,
     "metadata": {},
     "output_type": "execute_result"
    }
   ],
   "source": [
    "# where RL is better than baseline\n",
    "beaten_baseline = results_reward[\n",
    "    (results_reward[\"baseline\"] < results_reward[\"CE\"])\n",
    "#    | (results_reward[\"baseline\"] < results_reward[\"ES\"])\n",
    "#    | (results_reward[\"baseline\"] < results_reward[\"MCTS\"])\n",
    "]\n",
    "print(\n",
    "    f\"RL better than Baseline in {beaten_baseline.shape[0]} out of {len(collisions)} cases.\"\n",
    ")\n",
    "beaten_baseline"
   ]
  },
  {
   "cell_type": "markdown",
   "metadata": {},
   "source": [
    "### Thresholds"
   ]
  },
  {
   "cell_type": "code",
   "execution_count": 16,
   "metadata": {},
   "outputs": [],
   "source": [
    "def appropriate_models(result_table):\n",
    "    \"\"\"Returns name of model witch overcomes thresholds.\"\"\"\n",
    "    cols = [c for c in result_table.columns if c.split()[-1] == \"value\"]\n",
    "    thr = result_table[['threshold']].fillna(value=9999).as_matrix()\n",
    "    val = np.abs(result_table.loc[:, cols].as_matrix())\n",
    "    idx = np.all(thr >= val, axis=0)\n",
    "    return [' '.join(c.split()[:-1]) for i, c in enumerate(cols) if idx[i]]"
   ]
  },
  {
   "cell_type": "code",
   "execution_count": 17,
   "metadata": {},
   "outputs": [
    {
     "name": "stdout",
     "output_type": "stream",
     "text": [
      "The thresholds are overcomed in 19 out of 20 cases.\n"
     ]
    }
   ],
   "source": [
    "n_overcomed_thresholds = 0\n",
    "for collision in collisions.values():\n",
    "    m = appropriate_models(collision[\"result_table\"])\n",
    "    if m:\n",
    "        n_overcomed_thresholds += 1\n",
    "print(\n",
    "    f\"The thresholds are overcomed in {beaten_baseline.shape[0]} out of {len(collisions)} cases.\"\n",
    ")"
   ]
  },
  {
   "cell_type": "markdown",
   "metadata": {},
   "source": [
    "# Experiments"
   ]
  },
  {
   "cell_type": "markdown",
   "metadata": {},
   "source": [
    "### Tuning using CE"
   ]
  },
  {
   "cell_type": "code",
   "execution_count": null,
   "metadata": {},
   "outputs": [],
   "source": []
  }
 ],
 "metadata": {
  "kernelspec": {
   "display_name": "py3.6",
   "language": "python",
   "name": "py3.6"
  },
  "language_info": {
   "codemirror_mode": {
    "name": "ipython",
    "version": 3
   },
   "file_extension": ".py",
   "mimetype": "text/x-python",
   "name": "python",
   "nbconvert_exporter": "python",
   "pygments_lexer": "ipython3",
   "version": "3.6.6"
  }
 },
 "nbformat": 4,
 "nbformat_minor": 2
}
