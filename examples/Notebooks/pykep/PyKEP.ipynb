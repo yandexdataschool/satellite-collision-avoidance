{
 "cells": [
  {
   "cell_type": "markdown",
   "metadata": {},
   "source": [
    "## Pykep installing\n",
    "\n",
    "Instructions here: https://esa.github.io/pykep/installation.html <br> Or, for python3 only: ```pip3 install pykep``` <br>\n",
    "\n",
    "Docs: https://esa.github.io/pykep/documentation/index.html"
   ]
  },
  {
   "cell_type": "code",
   "execution_count": 1,
   "metadata": {
    "collapsed": true
   },
   "outputs": [],
   "source": [
    "import time\n",
    "import matplotlib.pyplot as plt\n",
    "import pykep as pk\n",
    "from pykep.orbit_plots import plot_planet, plot_lambert\n",
    "from pykep.planet import jpl_lp, tle\n",
    "from pykep import lambert_problem, DAY2SEC, MU_SUN, epoch\n",
    "import numpy as np\n",
    "%matplotlib inline"
   ]
  },
  {
   "cell_type": "markdown",
   "metadata": {},
   "source": [
    "##  Two-line element set\n",
    "\n",
    "A two-line element set (TLE) is a data format encoding a list of orbital elements of an Earth-orbiting object for a given point in time, the epoch. Using suitable prediction formula, the state (position and velocity) at any point in the past or future can be estimated to some accuracy.\n",
    "\n",
    "#### An example TLE for the International Space Station:\n",
    "\n",
    "ISS (ZARYA)\n",
    "\n",
    "1 25544U 98067A   08264.51782528 -.00002182  00000-0 -11606-4 0  2927\n",
    "\n",
    "2 25544  51.6416 247.4627 0006703 130.5360 325.0288 15.72125391563537\n",
    "\n",
    "\n",
    "\n",
    "Try to create satellite. "
   ]
  },
  {
   "cell_type": "code",
   "execution_count": 2,
   "metadata": {},
   "outputs": [
    {
     "name": "stdout",
     "output_type": "stream",
     "text": [
      "Help on class tle in module pykep.planet._planet:\n",
      "\n",
      "class tle(_base)\n",
      " |  An Earth satellite defined from the TLE format, derives from :py:class:`pykep.planet._base`\n",
      " |  \n",
      " |  Method resolution order:\n",
      " |      tle\n",
      " |      _base\n",
      " |      Boost.Python.instance\n",
      " |      builtins.object\n",
      " |  \n",
      " |  Methods defined here:\n",
      " |  \n",
      " |  __copy__(...)\n",
      " |  \n",
      " |  __deepcopy__(...)\n",
      " |  \n",
      " |  __getinitargs__(...)\n",
      " |  \n",
      " |  __getstate__(...)\n",
      " |  \n",
      " |  __init__(...)\n",
      " |      pykep.planet.tle(line1, line2)\n",
      " |      \n",
      " |      - line1: string containing the first line of a TLE (69 well formatted chars)\n",
      " |      - line2: string containing the second line of a TLE (69 well formatted chars)\n",
      " |      \n",
      " |      Example::\n",
      " |      \n",
      " |        line1 = '1 23177U 94040C   06175.45752052  .00000386  00000-0  76590-3 0    95'\n",
      " |        line2 = '2 23177   7.0496 179.8238 7258491 296.0482   8.3061  2.25906668 97438'\n",
      " |        arianne = planet.tle(line1, line2)\n",
      " |  \n",
      " |  __reduce__ = <unnamed Boost.Python function>(...)\n",
      " |  \n",
      " |  __setstate__(...)\n",
      " |  \n",
      " |  set_epoch(...)\n",
      " |      PyKep.planet.tle.set_epoch(year, day)\n",
      " |      \n",
      " |      - year: unsigned integer specifying the full 4 digit year\n",
      " |      - day:  double representing the fractional day as in TLE format.\n",
      " |      \n",
      " |      Set the epoch of the TLE to the given date without changing any other elements.\n",
      " |      Used to work around the Y2056 bug in TLE definition\n",
      " |  \n",
      " |  ----------------------------------------------------------------------\n",
      " |  Data descriptors defined here:\n",
      " |  \n",
      " |  line1\n",
      " |      Get 1st line of original TLE\n",
      " |  \n",
      " |  line2\n",
      " |      Get 2nd line of original TLE\n",
      " |  \n",
      " |  ref_mjd2000\n",
      " |      Get reference epoch (possibly modified from what is in line 1 of TLE)\n",
      " |  \n",
      " |  ----------------------------------------------------------------------\n",
      " |  Data and other attributes defined here:\n",
      " |  \n",
      " |  __getstate_manages_dict__ = True\n",
      " |  \n",
      " |  __instance_size__ = 1016\n",
      " |  \n",
      " |  __safe_for_unpickling__ = True\n",
      " |  \n",
      " |  ----------------------------------------------------------------------\n",
      " |  Methods inherited from _base:\n",
      " |  \n",
      " |  __repr__(...)\n",
      " |  \n",
      " |  compute_period(...)\n",
      " |      The planet orbital period in [sec]\n",
      " |      \n",
      " |      Example::\n",
      " |      \n",
      " |        T = earth.compute_period()\n",
      " |        T = earth.compute_period(epoch(2345.3, 'mjd2000'))\n",
      " |  \n",
      " |  eph(...)\n",
      " |      pykep.planet._base.eph(when)\n",
      " |      \n",
      " |      - when: a :py:class:`pykep.epoch` indicating the epoch at which the ephemerides are needed, it can also be a double in which case its interpreted as a mjd2000\n",
      " |      \n",
      " |      Retuns a tuple containing the planet position and velocity in SI units\n",
      " |      \n",
      " |      .. note::\n",
      " |      \n",
      " |         This is a pure virtual method and must be reimplemented in the derived class\n",
      " |      \n",
      " |      Example::\n",
      " |      \n",
      " |        r,v = earth.eph(epoch(5433), 'mjd2000')\n",
      " |        r,v = earth.eph(5433)\n",
      " |  \n",
      " |  human_readable_extra(...)\n",
      " |      pykep.planet._base.human_readable_extra()\n",
      " |      \n",
      " |      Retuns a string with extra information on the problem.\n",
      " |      \n",
      " |      .. note::\n",
      " |      \n",
      " |         This is a virtual method and can be reimplemented in the derived class. In which case __repr__ will append its returned value\n",
      " |  \n",
      " |  osculating_elements(...)\n",
      " |      Retruns a tuple containing the six osculating keplerian elements a,e,i,W,w,M at the reference epoch\n",
      " |      (SI units used). If no epoch is passed 0. is assumed\n",
      " |      \n",
      " |      Example::\n",
      " |      \n",
      " |        elem = earth.osculating_elements()\n",
      " |        elem = earth.osculating_elements(epoch(2345.3, 'mjd2000'))\n",
      " |  \n",
      " |  ----------------------------------------------------------------------\n",
      " |  Data descriptors inherited from _base:\n",
      " |  \n",
      " |  mu_central_body\n",
      " |      The central body gravity parameter in [m^3/s^2]\n",
      " |      \n",
      " |      Example::\n",
      " |      \n",
      " |        mu = earth.mu_central_body\n",
      " |  \n",
      " |  mu_self\n",
      " |      The body gravity parameter in [m^3/s^2]\n",
      " |      \n",
      " |      Example::\n",
      " |      \n",
      " |        mu_pla = earth.mu_self\n",
      " |  \n",
      " |  name\n",
      " |      The body Name\n",
      " |      \n",
      " |      Example::\n",
      " |      \n",
      " |        name = earth.name\n",
      " |  \n",
      " |  radius\n",
      " |      The planet radius in [m]\n",
      " |      \n",
      " |      Example::\n",
      " |      \n",
      " |        R = earth.radius\n",
      " |  \n",
      " |  safe_radius\n",
      " |      The body safe radius in [m](distance at which it is safe for spacecraft to fly-by)\n",
      " |      \n",
      " |      Example::\n",
      " |      \n",
      " |        Rs = earth.safe_radius\n",
      " |        earth.safe_radius = 1.05\n",
      " |  \n",
      " |  ----------------------------------------------------------------------\n",
      " |  Methods inherited from Boost.Python.instance:\n",
      " |  \n",
      " |  __new__(*args, **kwargs) from Boost.Python.class\n",
      " |      Create and return a new object.  See help(type) for accurate signature.\n",
      " |  \n",
      " |  ----------------------------------------------------------------------\n",
      " |  Data descriptors inherited from Boost.Python.instance:\n",
      " |  \n",
      " |  __dict__\n",
      " |  \n",
      " |  __weakref__\n",
      "\n"
     ]
    }
   ],
   "source": [
    "help(tle)"
   ]
  },
  {
   "cell_type": "code",
   "execution_count": 3,
   "metadata": {},
   "outputs": [
    {
     "data": {
      "image/png": "[encoded data removed]",
      "text/plain": [
       "<matplotlib.figure.Figure at 0x7ff13faf9fd0>"
      ]
     },
     "metadata": {},
     "output_type": "display_data"
    }
   ],
   "source": [
    "fig = plt.figure()\n",
    "ax = fig.gca(projection='3d')\n",
    "\n",
    "t = epoch(640)\n",
    "\n",
    "earth = jpl_lp('earth')\n",
    "plot_planet(earth, t0=t, ax=ax)\n",
    "\n",
    "plt.show()"
   ]
  },
  {
   "cell_type": "code",
   "execution_count": 4,
   "metadata": {},
   "outputs": [
    {
     "data": {
      "image/png": "[encoded data removed]",
      "text/plain": [
       "<matplotlib.figure.Figure at 0x7ff17c9a8860>"
      ]
     },
     "metadata": {},
     "output_type": "display_data"
    }
   ],
   "source": [
    "fig = plt.figure()\n",
    "ax = fig.gca(projection='3d')\n",
    "\n",
    "t = epoch(640)\n",
    "\n",
    "iss1 = '1 25544U 98067A   17328.30743056  .00003472  00000-0  59488-4 0  9993'\n",
    "iss2 = '2 25544  51.6407 320.0980 0004356 149.0109  38.9204 15.54217487 86654'\n",
    "ISS = tle(iss1, iss2)\n",
    "\n",
    "plot_planet(ISS, t0=t, ax=ax, color=\"g\")\n",
    "\n",
    "plt.show()"
   ]
  },
  {
   "cell_type": "code",
   "execution_count": 5,
   "metadata": {},
   "outputs": [
    {
     "data": {
      "image/png": "[encoded data removed]",
      "text/plain": [
       "<matplotlib.figure.Figure at 0x7ff13d9727b8>"
      ]
     },
     "metadata": {},
     "output_type": "display_data"
    }
   ],
   "source": [
    "fig = plt.figure()\n",
    "ax = fig.gca(projection='3d')\n",
    "\n",
    "t = epoch(640)\n",
    "\n",
    "line1 = '1 23177U 94040C   06175.45752052  .00000386  00000-0  76590-3 0    95'\n",
    "line2 = '2 23177   7.0496 179.8238 7258491 296.0482   8.3061  2.25906668 97438'\n",
    "arianne = tle(line1, line2)\n",
    "\n",
    "plot_planet(arianne, t0=t, ax=ax, color=\"r\")\n",
    "\n",
    "plt.show()"
   ]
  },
  {
   "cell_type": "markdown",
   "metadata": {},
   "source": [
    "### We need:\n",
    "    - convert (position, velocity, time) to TLE to initiate SpaceObject.\n",
    "    - to be able to convert TLE to (x, y, z) - can use .eph(epoch) method\n",
    "    - to calculate the position of satellite at some epoch. - also use eph(epoch)\n",
    "    - add this to simulator, update SpaceObject class.\n",
    "    "
   ]
  },
  {
   "cell_type": "code",
   "execution_count": 6,
   "metadata": {
    "scrolled": true
   },
   "outputs": [
    {
     "name": "stdout",
     "output_type": "stream",
     "text": [
      "Help on method eph:\n",
      "\n",
      "eph(...) method of pykep.planet._planet.tle instance\n",
      "    pykep.planet._base.eph(when)\n",
      "    \n",
      "    - when: a :py:class:`pykep.epoch` indicating the epoch at which the ephemerides are needed, it can also be a double in which case its interpreted as a mjd2000\n",
      "    \n",
      "    Retuns a tuple containing the planet position and velocity in SI units\n",
      "    \n",
      "    .. note::\n",
      "    \n",
      "       This is a pure virtual method and must be reimplemented in the derived class\n",
      "    \n",
      "    Example::\n",
      "    \n",
      "      r,v = earth.eph(epoch(5433), 'mjd2000')\n",
      "      r,v = earth.eph(5433)\n",
      "\n"
     ]
    }
   ],
   "source": [
    "help(ISS.eph)"
   ]
  },
  {
   "cell_type": "code",
   "execution_count": 7,
   "metadata": {},
   "outputs": [
    {
     "name": "stdout",
     "output_type": "stream",
     "text": [
      "ISS position: x - -1246420.70, y - 5863791.87, z - 3159016.80.      \n",
      "ISS velocity: Vx - -5796.63, Vy - 1380.96, Vz - -4836.30      \n",
      "Epoch: 2017-Nov-27 00:00:00\n"
     ]
    }
   ],
   "source": [
    "eph = pk.epoch(6540)\n",
    "pos, v = ISS.eph(eph)\n",
    "print(\"ISS position: x - {:0.2f}, y - {:0.2f}, z - {:0.2f}.\\\n",
    "      \\nISS velocity: Vx - {:0.2f}, Vy - {:0.2f}, Vz - {:0.2f}\\\n",
    "      \\nEpoch: {}\".format(\n",
    "                    pos[0], pos[1], pos[2], \n",
    "                    v[0], v[1], v[2], \n",
    "                    eph)\n",
    "     )"
   ]
  },
  {
   "cell_type": "code",
   "execution_count": 8,
   "metadata": {},
   "outputs": [
    {
     "name": "stdout",
     "output_type": "stream",
     "text": [
      "Help on class epoch in module pykep.core._core:\n",
      "\n",
      "class epoch(Boost.Python.instance)\n",
      " |  Represents a precise point in time. The boost::posix_time_ptime classes are used to handle the conversion to and from string\n",
      " |  \n",
      " |  Method resolution order:\n",
      " |      epoch\n",
      " |      Boost.Python.instance\n",
      " |      builtins.object\n",
      " |  \n",
      " |  Methods defined here:\n",
      " |  \n",
      " |  __getinitargs__(...)\n",
      " |  \n",
      " |  __getstate__(...)\n",
      " |  \n",
      " |  __init__ = _epoch_ctor(self, julian_date=0, julian_date_type='mjd2000')\n",
      " |      pykep.epoch(julian_date=0, julian_date_type=\"mjd2000\")\n",
      " |      \n",
      " |      - julian_date: a julian date, defaults to 0\n",
      " |      - julian_date_type: julian date type, one of \"jd\", \"mjd\" and \"mjd2000\", defaults to \"mjd2000\"\n",
      " |      \n",
      " |      Examples::\n",
      " |      \n",
      " |        e1 = epoch(0)\n",
      " |        e1 = epoch(0,\"mjd2000\")\n",
      " |        e2 = epoch(54333, \"mjd\")\n",
      " |  \n",
      " |  __reduce__ = <unnamed Boost.Python function>(...)\n",
      " |  \n",
      " |  __repr__(...)\n",
      " |  \n",
      " |  __setstate__(...)\n",
      " |  \n",
      " |  ----------------------------------------------------------------------\n",
      " |  Data descriptors defined here:\n",
      " |  \n",
      " |  jd\n",
      " |      Returns the Julian Date\n",
      " |      \n",
      " |      Example::\n",
      " |      \n",
      " |        jd = e.jd\n",
      " |  \n",
      " |  mjd\n",
      " |      Returns the Modified Julian Date\n",
      " |      \n",
      " |      Example::\n",
      " |      \n",
      " |        jd = e.mjd\n",
      " |  \n",
      " |  mjd2000\n",
      " |      Returns the Modifeid Julian Date 2000\n",
      " |      \n",
      " |      Example::\n",
      " |      \n",
      " |        jd = e.mjd2000\n",
      " |  \n",
      " |  ----------------------------------------------------------------------\n",
      " |  Data and other attributes defined here:\n",
      " |  \n",
      " |  __getstate_manages_dict__ = True\n",
      " |  \n",
      " |  __instance_size__ = 24\n",
      " |  \n",
      " |  __safe_for_unpickling__ = True\n",
      " |  \n",
      " |  ----------------------------------------------------------------------\n",
      " |  Methods inherited from Boost.Python.instance:\n",
      " |  \n",
      " |  __new__(*args, **kwargs) from Boost.Python.class\n",
      " |      Create and return a new object.  See help(type) for accurate signature.\n",
      " |  \n",
      " |  ----------------------------------------------------------------------\n",
      " |  Data descriptors inherited from Boost.Python.instance:\n",
      " |  \n",
      " |  __dict__\n",
      " |  \n",
      " |  __weakref__\n",
      "\n"
     ]
    }
   ],
   "source": [
    "help(epoch)"
   ]
  },
  {
   "cell_type": "code",
   "execution_count": 9,
   "metadata": {},
   "outputs": [
    {
     "name": "stdout",
     "output_type": "stream",
     "text": [
      "Data: 2017-Nov-27 00:00:00\n",
      "Julian Date: 2458084.5\n",
      "Modified Julian Date58084.0\n",
      "Modifeid Julian Date 2000: 6540.0\n"
     ]
    }
   ],
   "source": [
    "print(\"Data: {}\\nJulian Date: {}\\nModified Julian Date{}\\nModifeid Julian Date 2000: {}\".format(eph, eph.jd, eph.mjd, eph.mjd2000))"
   ]
  },
  {
   "cell_type": "markdown",
   "metadata": {},
   "source": [
    "To create an epoch type from normal date - we can use ***pykep.epoch_from_string()*** or ***pykep.epoch_from_iso_string()***"
   ]
  },
  {
   "cell_type": "code",
   "execution_count": 10,
   "metadata": {},
   "outputs": [
    {
     "name": "stdout",
     "output_type": "stream",
     "text": [
      "Help on built-in function epoch_from_string in module pykep.core._core:\n",
      "\n",
      "epoch_from_string(...)\n",
      "    pykep.epoch_from_string(s)\n",
      "    \n",
      "    - s: string containing a date in the format 'YYYY-MM-DD HH:MM:SS'Returns a :py:class:`pykep.epoch` object constructed from a from a delimited string containing a date.Excess digits in fractional seconds will be dropped. Ex: '1:02:03.123456999' => '1:02:03.123456'.This behavior depends on the precision defined in astro_constant.h used to compile.\n",
      "    \n",
      "    NOTE: The function is based on the corresponding `boost date_time library function <http://www.boost.org/doc/libs/1_44_0/doc/html/date_time/posix_time.html#ptime_from_string>`_\n",
      "    \n",
      "    Example::\n",
      "    \n",
      "      e = pykep.epoch_from_string('2002-01-20 23:59:54.003')\n",
      "\n"
     ]
    }
   ],
   "source": [
    "help(pk.epoch_from_string)"
   ]
  },
  {
   "cell_type": "code",
   "execution_count": 11,
   "metadata": {},
   "outputs": [
    {
     "name": "stdout",
     "output_type": "stream",
     "text": [
      "Current time in YYYY-MM-DD HH:MM:SS format: 2018-05-08 17:04:29\n",
      "2018-May-08 17:04:29\n"
     ]
    }
   ],
   "source": [
    "t = time.strftime(\"%Y-%m-%d %T\")\n",
    "print(\"Current time in YYYY-MM-DD HH:MM:SS format: {}\".format(t))\n",
    "curr_eph = pk.epoch_from_string(t)\n",
    "print(curr_eph)"
   ]
  },
  {
   "cell_type": "code",
   "execution_count": 12,
   "metadata": {},
   "outputs": [
    {
     "name": "stdout",
     "output_type": "stream",
     "text": [
      "Help on built-in function epoch_from_iso_string in module pykep.core._core:\n",
      "\n",
      "epoch_from_iso_string(...)\n",
      "    pykep.epoch_from_iso_string(s)\n",
      "    \n",
      "    - s: string containing a date in the iso format 'YYYYMMDDTHHMMSS'Returns a :py:class:`pykep.epoch` object constructed from a from a non delimited iso form string containing a date.\n",
      "    \n",
      "    NOTE: The function is based on the corresponding `boost date_time library function <http://www.boost.org/doc/libs/1_44_0/doc/html/date_time/posix_time.html#ptime_from_string>`_\n",
      "    \n",
      "    Example::\n",
      "    \n",
      "      e = pykep.epoch_from_iso_string('20020120T235954')\n",
      "\n"
     ]
    }
   ],
   "source": [
    "help(pk.epoch_from_iso_string)"
   ]
  },
  {
   "cell_type": "code",
   "execution_count": 13,
   "metadata": {},
   "outputs": [
    {
     "name": "stdout",
     "output_type": "stream",
     "text": [
      "Current time in YYYYMMDDTHHMMSS format: 20180508T170429\n",
      "2018-May-08 17:04:29\n"
     ]
    }
   ],
   "source": [
    "t = time.strftime(\"%Y%m%dT%H%M%S\")\n",
    "print(\"Current time in YYYYMMDDTHHMMSS format: {}\".format(t))\n",
    "curr_eph = pk.epoch_from_iso_string(t)\n",
    "print(curr_eph)"
   ]
  },
  {
   "cell_type": "code",
   "execution_count": 14,
   "metadata": {},
   "outputs": [
    {
     "data": {
      "text/plain": [
       "2000-Jan-02 00:00:00"
      ]
     },
     "execution_count": 14,
     "metadata": {},
     "output_type": "execute_result"
    }
   ],
   "source": [
    "pk.epoch(1, \"mjd2000\")"
   ]
  },
  {
   "cell_type": "markdown",
   "metadata": {},
   "source": [
    "\n"
   ]
  },
  {
   "cell_type": "markdown",
   "metadata": {},
   "source": [
    "**Вопросы**:\n",
    "1. Как опредляются у нас параметры x, y, z (отностиельно земли?), и как это соотносится с тем, что возвразает `tle.eph(epoch)`\n",
    "2. Как преобразовать (pos, v, t) в TLE формат. -- **можем использовать не pk.planet.tle, а pk.planet.keplerian**\n",
    "3. "
   ]
  },
  {
   "cell_type": "markdown",
   "metadata": {},
   "source": [
    "### Initiate a satellite with position (cartesian), velocity, epoch."
   ]
  },
  {
   "cell_type": "markdown",
   "metadata": {},
   "source": [
    "ECEF (\"earth-centered, earth-fixed\"), also known as ECR (\"earth-centered rotational\"), is a geographic coordinate system and Cartesian coordinate system, and is sometimes known as a \"conventional terrestrial\" system. It represents positions (in meters) as X, Y, and Z coordinates. The point (0,0,0) is defined as the center of mass of the earth, hence the name \"earth-centered.\" Its axes are aligned with the international reference pole (IRP) and international reference meridian (IRM) that are fixed with respect to the surface of the earth, hence the description \"earth-fixed.\" This term can cause confusion since the earth does not rotate about the z-axis (unlike an inertial system such as ECI), and is therefore alternatively called ECR.\n",
    "\n",
    "The z-axis extends through True north, which does not coincide with the instantaneous earth rotational axis. The slight \"wobbling\" of the rotational axis is known as polar motion. The x-axis intersects the sphere of the earth at 0° latitude (the equator) and 0° longitude (prime meridian in Greenwich). This means that ECEF rotates with the earth, and therefore coordinates of a point fixed on the surface of the earth do not change. Conversion from a WGS84 datum to ECEF can be used as an intermediate step in converting velocities to the north east down coordinate system.\n",
    "\n",
    "<img src=\"https://upload.wikimedia.org/wikipedia/commons/thumb/7/7b/ECEF.svg/1200px-ECEF.svg.png\">\n",
    "\n",
    "\n",
    "https://en.wikipedia.org/wiki/ECEF"
   ]
  },
  {
   "cell_type": "code",
   "execution_count": 15,
   "metadata": {},
   "outputs": [
    {
     "name": "stdout",
     "output_type": "stream",
     "text": [
      "Help on built-in function propagate_lagrangian in module pykep.core._core:\n",
      "\n",
      "propagate_lagrangian(...)\n",
      "    pykep.propagate_lagrangian(r,v,t,mu)\n",
      "    \n",
      "    - r: start position, x,y,z\n",
      "    - v: start velocity, vx,vy,vz\n",
      "    - t: propagation time\n",
      "    - mu: central body gravity constant\n",
      "    \n",
      "    Returns a tuple containing r and v, the final position and velocity after the propagation.\n",
      "    \n",
      "    Example::\n",
      "    \n",
      "      r,v = propagate_lagrangian([1,0,0],[0,1,0],pi/2,1)\n",
      "\n"
     ]
    }
   ],
   "source": [
    "help(pk.propagate_lagrangian)"
   ]
  },
  {
   "cell_type": "code",
   "execution_count": 16,
   "metadata": {},
   "outputs": [
    {
     "name": "stdout",
     "output_type": "stream",
     "text": [
      "(1.1102230246251565e-16, 1.0, 0.0) (-1.0, 1.1102230246251565e-16, 0.0)\n"
     ]
    }
   ],
   "source": [
    "import math\n",
    "r,v = pk.propagate_lagrangian([1,0,0],[0,1,0],math.pi/2,1)\n",
    "print(r, v)"
   ]
  },
  {
   "cell_type": "code",
   "execution_count": 17,
   "metadata": {},
   "outputs": [
    {
     "data": {
      "text/plain": [
       "Lambert's problem:\n",
       "mu = 1\n",
       "r1 = [1, 0, 0]\n",
       "r2 = [0, 1, 0]\n",
       "Time of flight: 7.8539816339745\n",
       "\n",
       "chord = 1.4142135623731\n",
       "semiperimeter = 1.7071067811865\n",
       "lambda = 0.41421356237309\n",
       "non dimensional time of flight = 4.9798223260205\n",
       "\n",
       "Maximum number of revolutions: 1\n",
       "Solutions: \n",
       "0 revs, Iters: 3, x: -0.58644325543794, a: 1.3009812610796\n",
       "\tv1= [0.90230487720848529, 0.64590659483860502, 0] v2= [-0.64590659483860502, -0.90230487720848529, 0]\n",
       "1 revs,  left. Iters: 4, x: -0.11188837995933, a: 0.86437450327173\n",
       "\tv1= [0.45213333668550759, 0.79916800651739384, 0] v2= [-0.79916800651739384, -0.45213333668550759, 0]\n",
       "1 revs, right. Iters: 4, a: 0.38268343236509, a: 1\n",
       "\tv1= [1.0257123289739564e-16, 0.99999999999999978, 0] v2= [-0.99999999999999978, -1.0257123289739564e-16, 0]"
      ]
     },
     "execution_count": 17,
     "metadata": {},
     "output_type": "execute_result"
    }
   ],
   "source": [
    "l = pk.lambert_problem([1,0,0],[0,1,0],5 * math.pi / 2. )\n",
    "l"
   ]
  },
  {
   "cell_type": "code",
   "execution_count": 18,
   "metadata": {},
   "outputs": [
    {
     "name": "stdout",
     "output_type": "stream",
     "text": [
      "Help on built-in function ic2eq in module pykep.core._core:\n",
      "\n",
      "ic2eq(...)\n",
      "    pykep.ic2eq(r,v,mu = 1.0, retrogade = False)\n",
      "    \n",
      "    - r: position (cartesian)\n",
      "    - v: velocity (cartesian)\n",
      "    - mu: gravity parameter\n",
      "    \n",
      "    - retrogade: uses the retrograde parameters. Default value is False.\n",
      "    \n",
      "    Returns the modified equinoctial elements a(1-e^2),h,k,p,q,L\n",
      "    L is the true mean longitude\n",
      "    Example:: \n",
      "    \n",
      "      E = ic2eq(r = [1,0,0], v = [0,1,0], mu =1.0)\n",
      "\n"
     ]
    }
   ],
   "source": [
    "E = pk.ic2eq(r = [1,0,0], v = [0,1,0], mu =1.0)\n",
    "help(pk.ic2eq)"
   ]
  },
  {
   "cell_type": "code",
   "execution_count": 19,
   "metadata": {},
   "outputs": [
    {
     "name": "stdout",
     "output_type": "stream",
     "text": [
      "Help on class keplerian in module pykep.planet._planet:\n",
      "\n",
      "class keplerian(_base)\n",
      " |  A planet with Keplerian ephemerides, derives from :py:class:`pykep.planet._base`\n",
      " |  \n",
      " |  Method resolution order:\n",
      " |      keplerian\n",
      " |      _base\n",
      " |      Boost.Python.instance\n",
      " |      builtins.object\n",
      " |  \n",
      " |  Methods defined here:\n",
      " |  \n",
      " |  __copy__(...)\n",
      " |  \n",
      " |  __deepcopy__(...)\n",
      " |  \n",
      " |  __getinitargs__(...)\n",
      " |  \n",
      " |  __getstate__(...)\n",
      " |  \n",
      " |  __init__ = _keplerian_ctor(self, *args)\n",
      " |      pykep.planet.keplerian(when,orbital_elements, mu_central_body, mu_self,radius, safe_radius [, name = 'unknown'])\n",
      " |      \n",
      " |      pykep.planet.keplerian(when,r,v, mu_central_body, mu_self,radius, safe_radius [, name = 'unknown'])\n",
      " |      \n",
      " |      - when: a :py:class:`pykep.epoch` indicating the orbital elements reference epoch\n",
      " |      - orbital_elements: a sequence of six containing a,e,i,W,w,M (SI units, i.e. meters and radiants)\n",
      " |      - r,v: position and velocity of an object at when (SI units)\n",
      " |      - mu_central_body: gravity parameter of the central body (SI units, i.e. m^2/s^3)\n",
      " |      - mu_self: gravity parameter of the planet (SI units, i.e. m^2/s^3)\n",
      " |      - radius: body radius (SI units, i.e. meters)\n",
      " |      - safe_radius: mimimual radius that is safe during a fly-by of the planet (SI units, i.e. m)\n",
      " |      - name: body name\n",
      " |      \n",
      " |      .. note::\n",
      " |      \n",
      " |         All classes having Keplerian ephemerides as :py:class:`pykep.planet.mpcorb` inherit from this (c++) class\n",
      " |      \n",
      " |      Example::\n",
      " |      \n",
      " |        earth = planet(epoch(54000,\"mjd\"),(9.99e-01 * AU, 1.67e-02, 8.85e-04 * DEG2RAD, 1.75e+02 * DEG2RAD, 2.87e+02 * DEG2RAD, 2.57e+02 * DEG2RAD), MU_SUN, 398600e9, 6378000, 6900000,  'Earth')\"\n",
      " |  \n",
      " |  __reduce__ = <unnamed Boost.Python function>(...)\n",
      " |  \n",
      " |  __setstate__(...)\n",
      " |  \n",
      " |  ----------------------------------------------------------------------\n",
      " |  Data descriptors defined here:\n",
      " |  \n",
      " |  orbital_elements\n",
      " |      The keplerian elements of the planet\n",
      " |      \n",
      " |      Example::\n",
      " |      \n",
      " |        el = earth.orbital_elements\n",
      " |  \n",
      " |  ref_epoch\n",
      " |      The reference epoch at which the elements are given\n",
      " |      \n",
      " |      Example::\n",
      " |      \n",
      " |        el = earth.ref_epoch\n",
      " |  \n",
      " |  ref_mjd2000\n",
      " |      The reference epoch at which the elements are given\n",
      " |      \n",
      " |      Example::\n",
      " |      \n",
      " |        el = earth.ref_mjd2000\n",
      " |  \n",
      " |  ----------------------------------------------------------------------\n",
      " |  Data and other attributes defined here:\n",
      " |  \n",
      " |  __getstate_manages_dict__ = True\n",
      " |  \n",
      " |  __instance_size__ = 176\n",
      " |  \n",
      " |  __safe_for_unpickling__ = True\n",
      " |  \n",
      " |  ----------------------------------------------------------------------\n",
      " |  Methods inherited from _base:\n",
      " |  \n",
      " |  __repr__(...)\n",
      " |  \n",
      " |  compute_period(...)\n",
      " |      The planet orbital period in [sec]\n",
      " |      \n",
      " |      Example::\n",
      " |      \n",
      " |        T = earth.compute_period()\n",
      " |        T = earth.compute_period(epoch(2345.3, 'mjd2000'))\n",
      " |  \n",
      " |  eph(...)\n",
      " |      pykep.planet._base.eph(when)\n",
      " |      \n",
      " |      - when: a :py:class:`pykep.epoch` indicating the epoch at which the ephemerides are needed, it can also be a double in which case its interpreted as a mjd2000\n",
      " |      \n",
      " |      Retuns a tuple containing the planet position and velocity in SI units\n",
      " |      \n",
      " |      .. note::\n",
      " |      \n",
      " |         This is a pure virtual method and must be reimplemented in the derived class\n",
      " |      \n",
      " |      Example::\n",
      " |      \n",
      " |        r,v = earth.eph(epoch(5433), 'mjd2000')\n",
      " |        r,v = earth.eph(5433)\n",
      " |  \n",
      " |  human_readable_extra(...)\n",
      " |      pykep.planet._base.human_readable_extra()\n",
      " |      \n",
      " |      Retuns a string with extra information on the problem.\n",
      " |      \n",
      " |      .. note::\n",
      " |      \n",
      " |         This is a virtual method and can be reimplemented in the derived class. In which case __repr__ will append its returned value\n",
      " |  \n",
      " |  osculating_elements(...)\n",
      " |      Retruns a tuple containing the six osculating keplerian elements a,e,i,W,w,M at the reference epoch\n",
      " |      (SI units used). If no epoch is passed 0. is assumed\n",
      " |      \n",
      " |      Example::\n",
      " |      \n",
      " |        elem = earth.osculating_elements()\n",
      " |        elem = earth.osculating_elements(epoch(2345.3, 'mjd2000'))\n",
      " |  \n",
      " |  ----------------------------------------------------------------------\n",
      " |  Data descriptors inherited from _base:\n",
      " |  \n",
      " |  mu_central_body\n",
      " |      The central body gravity parameter in [m^3/s^2]\n",
      " |      \n",
      " |      Example::\n",
      " |      \n",
      " |        mu = earth.mu_central_body\n",
      " |  \n",
      " |  mu_self\n",
      " |      The body gravity parameter in [m^3/s^2]\n",
      " |      \n",
      " |      Example::\n",
      " |      \n",
      " |        mu_pla = earth.mu_self\n",
      " |  \n",
      " |  name\n",
      " |      The body Name\n",
      " |      \n",
      " |      Example::\n",
      " |      \n",
      " |        name = earth.name\n",
      " |  \n",
      " |  radius\n",
      " |      The planet radius in [m]\n",
      " |      \n",
      " |      Example::\n",
      " |      \n",
      " |        R = earth.radius\n",
      " |  \n",
      " |  safe_radius\n",
      " |      The body safe radius in [m](distance at which it is safe for spacecraft to fly-by)\n",
      " |      \n",
      " |      Example::\n",
      " |      \n",
      " |        Rs = earth.safe_radius\n",
      " |        earth.safe_radius = 1.05\n",
      " |  \n",
      " |  ----------------------------------------------------------------------\n",
      " |  Methods inherited from Boost.Python.instance:\n",
      " |  \n",
      " |  __new__(*args, **kwargs) from Boost.Python.class\n",
      " |      Create and return a new object.  See help(type) for accurate signature.\n",
      " |  \n",
      " |  ----------------------------------------------------------------------\n",
      " |  Data descriptors inherited from Boost.Python.instance:\n",
      " |  \n",
      " |  __dict__\n",
      " |  \n",
      " |  __weakref__\n",
      "\n"
     ]
    }
   ],
   "source": [
    "help(pk.planet.keplerian)"
   ]
  },
  {
   "cell_type": "code",
   "execution_count": 20,
   "metadata": {
    "collapsed": true
   },
   "outputs": [],
   "source": [
    "t = 6541\n",
    "pos = [1,0,0]\n",
    "v = [0,1,0]\n",
    "mu =1.0\n",
    "eph = pk.epoch(t, \"mjd2000\")\n",
    "E = pk.ic2eq(r = [1,0,0], v = [0,1,0], mu =1.0)\n",
    "# initiate with orbital elements\n",
    "sat = pk.planet.keplerian(eph, E)\n",
    "# initiate with pos and v \n",
    "# s2 = pk.planet.keplerian(eph, r, v, mu, mu, mu) - not working!"
   ]
  },
  {
   "cell_type": "code",
   "execution_count": 21,
   "metadata": {},
   "outputs": [
    {
     "data": {
      "text/plain": [
       "Planet Name: Unknown\n",
       "Own gravity parameter: 0.10000000000000001\n",
       "Central body gravity parameter: 0.10000000000000001\n",
       "Planet radius: 0.10000000000000001\n",
       "Planet safe radius: 0.10000000000000001\n",
       "Keplerian planet elements: \n",
       "Semi major axis (AU): 6.6845871226705987e-12\n",
       "Eccentricity: 0\n",
       "Inclination (deg.): 0\n",
       "Big Omega (deg.): 0\n",
       "Small omega (deg.): -0\n",
       "Mean anomaly (deg.): 0\n",
       "Elements reference epoch: 2017-Nov-28 00:00:00\n",
       "Ephemerides type: Keplerian\n",
       "r at ref. = [1, 0, 0]\n",
       "v at ref. = [0, 0.31622776601683794, 0]"
      ]
     },
     "execution_count": 21,
     "metadata": {},
     "output_type": "execute_result"
    }
   ],
   "source": [
    "sat"
   ]
  },
  {
   "cell_type": "code",
   "execution_count": 22,
   "metadata": {},
   "outputs": [
    {
     "data": {
      "text/plain": [
       "['__class__',\n",
       " '__copy__',\n",
       " '__deepcopy__',\n",
       " '__delattr__',\n",
       " '__dict__',\n",
       " '__dir__',\n",
       " '__doc__',\n",
       " '__eq__',\n",
       " '__format__',\n",
       " '__ge__',\n",
       " '__getattribute__',\n",
       " '__getinitargs__',\n",
       " '__getstate__',\n",
       " '__getstate_manages_dict__',\n",
       " '__gt__',\n",
       " '__hash__',\n",
       " '__init__',\n",
       " '__init_subclass__',\n",
       " '__instance_size__',\n",
       " '__le__',\n",
       " '__lt__',\n",
       " '__module__',\n",
       " '__ne__',\n",
       " '__new__',\n",
       " '__reduce__',\n",
       " '__reduce_ex__',\n",
       " '__repr__',\n",
       " '__safe_for_unpickling__',\n",
       " '__setattr__',\n",
       " '__setstate__',\n",
       " '__sizeof__',\n",
       " '__str__',\n",
       " '__subclasshook__',\n",
       " '__weakref__',\n",
       " '_orig_init',\n",
       " 'compute_period',\n",
       " 'eph',\n",
       " 'human_readable_extra',\n",
       " 'mu_central_body',\n",
       " 'mu_self',\n",
       " 'name',\n",
       " 'orbital_elements',\n",
       " 'osculating_elements',\n",
       " 'radius',\n",
       " 'ref_epoch',\n",
       " 'ref_mjd2000',\n",
       " 'safe_radius']"
      ]
     },
     "execution_count": 22,
     "metadata": {},
     "output_type": "execute_result"
    }
   ],
   "source": [
    "dir(sat)"
   ]
  },
  {
   "cell_type": "code",
   "execution_count": 23,
   "metadata": {},
   "outputs": [
    {
     "name": "stdout",
     "output_type": "stream",
     "text": [
      "Position at epoch 2019-Mar-02 00:00:00: (0.07504426809074016, -0.9971802032866103, 0.0)\n",
      "Velocity at epoch 2019-Mar-02 00:00:00: (0.31533606800154107, 0.02373108125070344, 0.0)\n"
     ]
    }
   ],
   "source": [
    "eph = epoch(7000, \"mjd2000\")\n",
    "pos, v = sat.eph(eph)\n",
    "print(\"Position at epoch {}: {}\\nVelocity at epoch {}: {}\".format(eph, pos, eph, v))"
   ]
  },
  {
   "cell_type": "code",
   "execution_count": 24,
   "metadata": {
    "collapsed": true
   },
   "outputs": [],
   "source": [
    "sat.name = \"D1\""
   ]
  },
  {
   "cell_type": "code",
   "execution_count": null,
   "metadata": {
    "collapsed": true
   },
   "outputs": [],
   "source": []
  },
  {
   "cell_type": "markdown",
   "metadata": {},
   "source": [
    "## Example of simulator"
   ]
  },
  {
   "cell_type": "code",
   "execution_count": 25,
   "metadata": {},
   "outputs": [],
   "source": [
    "from space_navigator.simulator import Simulator \n",
    "from space_navigator.utils import read_space_objects\n",
    "from space_navigator.api import SpaceObject, Environment\n",
    "from space_navigator.agent import TableAgent as Agent"
   ]
  },
  {
   "cell_type": "code",
   "execution_count": 26,
   "metadata": {},
   "outputs": [
    {
     "name": "stdout",
     "output_type": "stream",
     "text": [
      " CE_tutorial.ipynb\t\t\t        reward.ipynb\r\n",
      " MCTS_tutorial.ipynb\t\t\t        simulator.log\r\n",
      " Play_with_keplerian_object_parameteres.ipynb   Simulator_tutorial.ipynb\r\n",
      " profiling\t\t\t\t       'Test environment reset.ipynb'\r\n",
      " PyKEP.ipynb\r\n"
     ]
    }
   ],
   "source": [
    "!ls"
   ]
  },
  {
   "cell_type": "code",
   "execution_count": 27,
   "metadata": {
    "scrolled": false
   },
   "outputs": [
    {
     "data": {
      "text/plain": [
       "Planet Name: ISS (ZARYA)\n",
       "Own gravity parameter: 0.10000000000000001\n",
       "Central body gravity parameter: 398600800000000\n",
       "Planet radius: 0.10000000000000001\n",
       "Planet safe radius: 0.10000000000000001\n",
       "Keplerian planet elements: \n",
       "Semi major axis (AU): 4.5376603864776671e-05\n",
       "Eccentricity: 0.00077975560465009207\n",
       "Inclination (deg.): 51.660484975535397\n",
       "Big Omega (deg.): 308.08377444974525\n",
       "Small omega (deg.): 65.984620124731748\n",
       "Mean anomaly (deg.): -80.455336533560555\n",
       "Elements reference epoch: 2017-Nov-26 17:09:01.999850\n",
       "Ephemerides type: Keplerian\n",
       "r at ref. = [3219053.4855556889, -5823677.1831619767, -1338232.1623769191]\n",
       "v at ref. = [4807.279326781867, 1326.8879564492188, 5819.264263426352]"
      ]
     },
     "execution_count": 27,
     "metadata": {},
     "output_type": "execute_result"
    }
   ],
   "source": [
    "sattelites = read_space_objects(\"../../data/environments/stations.tle\", \"tle\")\n",
    "sattelites[0].satellite"
   ]
  },
  {
   "cell_type": "code",
   "execution_count": 28,
   "metadata": {},
   "outputs": [],
   "source": [
    "ISS, debris = sattelites[0], sattelites[1:4]\n",
    "# Example of SpaceObject with initial parameters: pos, v, epoch.\n",
    "pos, v = [2315921.25, 3814078.37, 5096751.46], [4363.18, 1981.83, 5982.45]\n",
    "epoch = pk.epoch_from_string(\"2017-Nov-27 15:16:20\")\n",
    "mu_central_body, f = 398600800000000, 1.0\n",
    "mu_self = 1\n",
    "radius, safe_radius = 1, 1\n",
    "d1 = SpaceObject(\"Debris 1\", \"eph\", dict(\n",
    "    pos=pos, vel=v, epoch=epoch, mu_central_body=mu, fuel=f, mu_self=mu_self, radius=radius, safe_radius=safe_radius))\n",
    "debris.append(d1)\n",
    "\n",
    "agent = Agent()\n",
    "start_time, end_time = epoch, pk.epoch_from_string(\"2017-Nov-27 16:16:20\")\n",
    "env = Environment(ISS, debris, start_time, end_time)\n",
    "\n",
    "simulator = Simulator(agent, env)"
   ]
  },
  {
   "cell_type": "code",
   "execution_count": 29,
   "metadata": {},
   "outputs": [
    {
     "name": "stdout",
     "output_type": "stream",
     "text": [
      "Simulation started.\n",
      "\n",
      "Start time: 6540.636342592593 \t End time: 6540.67800925926 \t Simulation step:0.001\n",
      "\n",
      "Protected SpaceObject:\n",
      "Planet Name: ISS (ZARYA)\n",
      "Own gravity parameter: 0.10000000000000001\n",
      "Central body gravity parameter: 398600800000000\n",
      "Planet radius: 0.10000000000000001\n",
      "Planet safe radius: 0.10000000000000001\n",
      "Keplerian planet elements: \n",
      "Semi major axis (AU): 4.5376603864776671e-05\n",
      "Eccentricity: 0.00077975560465009207\n",
      "Inclination (deg.): 51.660484975535397\n",
      "Big Omega (deg.): 308.08377444974525\n",
      "Small omega (deg.): 65.984620124731748\n",
      "Mean anomaly (deg.): -80.455336533560555\n",
      "Elements reference epoch: 2017-Nov-26 17:09:01.999850\n",
      "Ephemerides type: Keplerian\n",
      "r at ref. = [3219053.4855556889, -5823677.1831619767, -1338232.1623769191]\n",
      "v at ref. = [4807.279326781867, 1326.8879564492188, 5819.264263426352]\n",
      "\n",
      "Debris objects:\n",
      "\n",
      "Planet Name: TIANGONG 1\n",
      "Own gravity parameter: 0.10000000000000001\n",
      "Central body gravity parameter: 398600800000000\n",
      "Planet radius: 0.10000000000000001\n",
      "Planet safe radius: 0.10000000000000001\n",
      "Keplerian planet elements: \n",
      "Semi major axis (AU): 4.4643153848327191e-05\n",
      "Eccentricity: 0.0012079398762325937\n",
      "Inclination (deg.): 42.772683058440606\n",
      "Big Omega (deg.): 277.31481717434184\n",
      "Small omega (deg.): 136.65946445611124\n",
      "Mean anomaly (deg.): -151.46316738719324\n",
      "Elements reference epoch: 2017-Nov-26 13:34:51.000393\n",
      "Ephemerides type: Keplerian\n",
      "r at ref. = [-426436.29933735356, -6569480.4149622191, -1165101.7554054775]\n",
      "v at ref. = [5683.1119684333244, -1262.8411117104306, 5066.0525681925137]\n",
      "\n",
      "Planet Name: AGGIESAT 4\n",
      "Own gravity parameter: 0.10000000000000001\n",
      "Central body gravity parameter: 398600800000000\n",
      "Planet radius: 0.10000000000000001\n",
      "Planet safe radius: 0.10000000000000001\n",
      "Keplerian planet elements: \n",
      "Semi major axis (AU): 4.4733041184288998e-05\n",
      "Eccentricity: 0.0015536506730510111\n",
      "Inclination (deg.): 51.65590366636328\n",
      "Big Omega (deg.): 244.29139983889982\n",
      "Small omega (deg.): 58.642498900165172\n",
      "Mean anomaly (deg.): -58.490735461671271\n",
      "Elements reference epoch: 2017-Nov-26 04:57:04.623254\n",
      "Ephemerides type: Keplerian\n",
      "r at ref. = [-2900597.0477440944, -6024651.7881117314, -16.068732537794858]\n",
      "v at ref. = [4321.9476898397315, -2069.4739810173264, 6057.9461071447313]\n",
      "\n",
      "Planet Name: FLOCK 2E'-1\n",
      "Own gravity parameter: 0.10000000000000001\n",
      "Central body gravity parameter: 398600800000000\n",
      "Planet radius: 0.10000000000000001\n",
      "Planet safe radius: 0.10000000000000001\n",
      "Keplerian planet elements: \n",
      "Semi major axis (AU): 4.4882558196991479e-05\n",
      "Eccentricity: 0.0015054083439634341\n",
      "Inclination (deg.): 51.653666717448388\n",
      "Big Omega (deg.): 266.80380007493267\n",
      "Small omega (deg.): 54.239506064530275\n",
      "Mean anomaly (deg.): -54.099532548815617\n",
      "Elements reference epoch: 2017-Nov-25 20:37:09.467019\n",
      "Ephemerides type: Keplerian\n",
      "r at ref. = [-374023.79895108636, -6697983.2731815483, 7.5482539627701044]\n",
      "v at ref. = [4777.5237751966743, -257.34921373470479, 6048.0907643230821]\n",
      "\n",
      "Planet Name: Debris 1\n",
      "Own gravity parameter: 1\n",
      "Central body gravity parameter: 1\n",
      "Planet radius: 1\n",
      "Planet safe radius: 1\n",
      "Keplerian planet elements: \n",
      "Semi major axis (AU): 1.1377110879144098e-19\n",
      "Eccentricity: 148876872594900.84\n",
      "Inclination (deg.): 128.35289921479148\n",
      "Big Omega (deg.): 123.39397973379617\n",
      "Small omega (deg.): 5.5912424111318506\n",
      "Mean anomaly (deg.): -7910787894485007\n",
      "Elements reference epoch: 2017-Nov-27 15:16:20\n",
      "Ephemerides type: Keplerian\n",
      "r at ref. = [2315921.25, 3814078.3700000001, 5096751.46]\n",
      "v at ref. = [4363.1800000000003, 1981.8299999999999, 5982.4499999999998]\n",
      "\n",
      "Simulation ended.\n",
      "Collision probability: 0.0.\n",
      "Reward: -4.539992976249074e-05.\n",
      "Fuel consumption: 0.0.\n"
     ]
    },
    {
     "data": {
      "text/plain": [
       "-4.539992976249074e-05"
      ]
     },
     "execution_count": 29,
     "metadata": {},
     "output_type": "execute_result"
    }
   ],
   "source": [
    "simulator.run(visualize=False, print_out=True)"
   ]
  },
  {
   "cell_type": "markdown",
   "metadata": {},
   "source": [
    "## How to make action: tle/keplerian object"
   ]
  },
  {
   "cell_type": "code",
   "execution_count": 30,
   "metadata": {
    "scrolled": false
   },
   "outputs": [
    {
     "name": "stdout",
     "output_type": "stream",
     "text": [
      "Planet Name: ISS (ZARYA)\n",
      "Own gravity parameter: 0.10000000000000001\n",
      "Central body gravity parameter: 398600800000000\n",
      "Planet radius: 0.10000000000000001\n",
      "Planet safe radius: 0.10000000000000001\n",
      "Keplerian planet elements: \n",
      "Semi major axis (AU): 4.5376603864776671e-05\n",
      "Eccentricity: 0.00077975560464989117\n",
      "Inclination (deg.): 51.660484975535404\n",
      "Big Omega (deg.): 308.08377444974525\n",
      "Small omega (deg.): 65.984620124722127\n",
      "Mean anomaly (deg.): 30.359759845272922\n",
      "Elements reference epoch: 2017-Nov-27 15:16:20\n",
      "Ephemerides type: Keplerian\n",
      "r at ref. = [2825964.6060061213, 3173680.6044245092, 5287716.8919135211]\n",
      "v at ref. = [-5115.7471138484816, 5672.9722669496296, -666.9735726580293]\n",
      "\n",
      "Planet Name: Debris 1\n",
      "Own gravity parameter: 1\n",
      "Central body gravity parameter: 1\n",
      "Planet radius: 1\n",
      "Planet safe radius: 1\n",
      "Keplerian planet elements: \n",
      "Semi major axis (AU): 1.1377110879144098e-19\n",
      "Eccentricity: 148876872594900.84\n",
      "Inclination (deg.): 128.35289921479148\n",
      "Big Omega (deg.): 123.39397973379617\n",
      "Small omega (deg.): 5.5912424111318506\n",
      "Mean anomaly (deg.): -7910787894485007\n",
      "Elements reference epoch: 2017-Nov-27 15:16:20\n",
      "Ephemerides type: Keplerian\n",
      "r at ref. = [2315921.25, 3814078.3700000001, 5096751.46]\n",
      "v at ref. = [4363.1800000000003, 1981.8299999999999, 5982.4499999999998]\n",
      "\n"
     ]
    }
   ],
   "source": [
    "t = pk.epoch_from_string(\"2017-Nov-27 15:16:20\")\n",
    "d1 = debris[-1]\n",
    "print(ISS.satellite)\n",
    "print(d1.satellite)"
   ]
  },
  {
   "cell_type": "code",
   "execution_count": 31,
   "metadata": {},
   "outputs": [
    {
     "data": {
      "text/plain": [
       "((928982.3675803808, 3184107.320135995, 3195089.7093660063),\n",
       " (4363.179999999996, 1981.8300000000224, 5982.450000000007))"
      ]
     },
     "execution_count": 31,
     "metadata": {},
     "output_type": "execute_result"
    }
   ],
   "source": [
    "d1.satellite.eph(t)"
   ]
  },
  {
   "cell_type": "code",
   "execution_count": 32,
   "metadata": {},
   "outputs": [
    {
     "data": {
      "image/png": "[encoded data removed]",
      "text/plain": [
       "<matplotlib.figure.Figure at 0x7ff13faf9ba8>"
      ]
     },
     "metadata": {},
     "output_type": "display_data"
    },
    {
     "data": {
      "text/plain": [
       "<matplotlib.axes._subplots.Axes3DSubplot at 0x7ff13b6a3278>"
      ]
     },
     "execution_count": 32,
     "metadata": {},
     "output_type": "execute_result"
    }
   ],
   "source": [
    "from pykep.orbit_plots import plot_planet\n",
    "\n",
    "plot_planet(d1.satellite)"
   ]
  },
  {
   "cell_type": "code",
   "execution_count": 33,
   "metadata": {},
   "outputs": [
    {
     "name": "stdout",
     "output_type": "stream",
     "text": [
      "[2315921.25, 3814078.37, 5096751.46]\n",
      "[4363.18, 1981.83, 5982.45]\n"
     ]
    }
   ],
   "source": [
    "pos, v = [2315921.25, 3814078.37, 5096751.46], [4363.18, 1981.83, 5982.45]\n",
    "print(pos)\n",
    "print(v)"
   ]
  },
  {
   "cell_type": "code",
   "execution_count": 34,
   "metadata": {
    "collapsed": true
   },
   "outputs": [],
   "source": [
    "dV = [1000, 1000, 0]\n",
    "v_after_act = list(np.array(v) + np.array(dV))"
   ]
  },
  {
   "cell_type": "code",
   "execution_count": 35,
   "metadata": {},
   "outputs": [
    {
     "name": "stdout",
     "output_type": "stream",
     "text": [
      "[4363.18, 1981.83, 5982.45]\n",
      "[5363.18, 2981.83, 5982.45]\n"
     ]
    }
   ],
   "source": [
    "print(v)\n",
    "print(v_after_act)"
   ]
  },
  {
   "cell_type": "code",
   "execution_count": 36,
   "metadata": {
    "collapsed": true
   },
   "outputs": [],
   "source": [
    "mu = 398600800000000\n",
    "d1_after_act = pk.planet.keplerian(t, pk.ic2eq(r=pos, v=v_after_act, mu=mu))"
   ]
  },
  {
   "cell_type": "code",
   "execution_count": 37,
   "metadata": {},
   "outputs": [
    {
     "name": "stdout",
     "output_type": "stream",
     "text": [
      "Planet Name: Unknown\n",
      "Own gravity parameter: 0.10000000000000001\n",
      "Central body gravity parameter: 0.10000000000000001\n",
      "Planet radius: 0.10000000000000001\n",
      "Planet safe radius: 0.10000000000000001\n",
      "Keplerian planet elements: \n",
      "Semi major axis (AU): 7.099980689369189e-06\n",
      "Eccentricity: 0.93853661019994417\n",
      "Inclination (deg.): 2.0364813729357096\n",
      "Big Omega (deg.): 62.138225656031288\n",
      "Small omega (deg.): -109.92523486035644\n",
      "Mean anomaly (deg.): -118.30096044824326\n",
      "Elements reference epoch: 2017-Nov-27 15:16:20\n",
      "Ephemerides type: Keplerian\n",
      "r at ref. = [-1416063.6555543053, 1267019.6797224097, 65570.865611574976]\n",
      "v at ref. = [2.5241947473004612e-05, -0.00010197765727446178, -2.4881582603239964e-06]\n",
      "\n",
      "Planet Name: Debris 1\n",
      "Own gravity parameter: 1\n",
      "Central body gravity parameter: 1\n",
      "Planet radius: 1\n",
      "Planet safe radius: 1\n",
      "Keplerian planet elements: \n",
      "Semi major axis (AU): 1.1377110879144098e-19\n",
      "Eccentricity: 148876872594900.84\n",
      "Inclination (deg.): 128.35289921479148\n",
      "Big Omega (deg.): 123.39397973379617\n",
      "Small omega (deg.): 5.5912424111318506\n",
      "Mean anomaly (deg.): -7910787894485007\n",
      "Elements reference epoch: 2017-Nov-27 15:16:20\n",
      "Ephemerides type: Keplerian\n",
      "r at ref. = [2315921.25, 3814078.3700000001, 5096751.46]\n",
      "v at ref. = [4363.1800000000003, 1981.8299999999999, 5982.4499999999998]\n",
      "\n"
     ]
    }
   ],
   "source": [
    "print(d1_after_act)\n",
    "print(d1.satellite)"
   ]
  },
  {
   "cell_type": "code",
   "execution_count": 38,
   "metadata": {},
   "outputs": [
    {
     "data": {
      "image/png": "[encoded data removed]",
      "text/plain": [
       "<matplotlib.figure.Figure at 0x7ff13adbb0f0>"
      ]
     },
     "metadata": {},
     "output_type": "display_data"
    }
   ],
   "source": [
    "fig = plt.figure()\n",
    "ax = fig.gca(projection='3d')\n",
    "plot_planet(d1_after_act, ax=ax)\n",
    "plot_planet(d1.satellite, ax=ax)\n",
    "plt.show()"
   ]
  },
  {
   "cell_type": "markdown",
   "metadata": {},
   "source": [
    "#### Вопрос:\n",
    "* Как правильно сделать изменение скорости во время движения? (можно ли сделать изменение прямо в объекте, или нужно создавать новый. Какие параметры передать в pk.ic2eq если нужно создавать новый объект? Возможно нужно оперировать оскеллирующими элементами а не pos,v,epoch? )\n",
    "* Как сделать action для TLE объектов? (можно ли задать ускорение и получить новые tle параметры)"
   ]
  },
  {
   "cell_type": "markdown",
   "metadata": {},
   "source": [
    "## Error while simulating:\n",
    "\n",
    "Iter #202 \tEpoch: 2018-Jun-17 19:10:52\tCollision: False\n",
    "ISS (ZARYA) position: x - 2294301.05, y - 4361138.35, z - 4647130.27.      \n",
    "ISS (ZARYA) velocity: Vx - -7073.77, Vy - 612.82, Vz - 2906.38      \n",
    "\n",
    "TIANGONG 1 position: x - -1044954.01, y - 5332539.98, z - 3341498.51.      \n",
    "TIANGONG 1 velocity: Vx - -6285.72, Vy - -3376.40, Vz - 3411.25      \n",
    "\n",
    "AGGIESAT 4 position: x - 4417318.58, y - 4517299.19, z - 989548.45.      \n",
    "AGGIESAT 4 velocity: Vx - -2875.75, Vy - 4153.74, Vz - -6072.23      \n",
    "\n",
    "FLOCK 2E'-1 position: x - 2417096.64, y - 5211513.51, z - 3147106.66.      \n",
    "FLOCK 2E'-1 velocity: Vx - -3892.48, Vy - 4733.31, Vz - -4832.39      \n",
    "\n",
    "Debris 1 position: x - -835344.47, y - -894179.90, z - 846699.02.      \n",
    "Debris 1 velocity: Vx - 0.00, Vy - -0.00, Vz - -0.00      \n",
    "\n",
    "Traceback (most recent call last):<br>\n",
    "  File \"simulator.py\", line 172, in <module><br>\n",
    "    main(sys.argv[1:])<br>\n",
    "  File \"simulator.py\", line 167, in main<br>\n",
    "    simulator.run(vizualize=vizualize, N=N, step=step)<br>\n",
    "  File \"simulator.py\", line 113, in run<br>\n",
    "    self.plot_debris()<br>\n",
    "  File \"simulator.py\", line 134, in plot_debris<br>\n",
    "    size=25, color=colors[i])<br>\n",
    "  File \"simulator.py\", line 61, in plot_planet<br>\n",
    "    t0=t, s=25, legend=True, color=color)<br>\n",
    "  File \"/usr/local/lib/python3.5/dist-packages/pykep/orbit_plots/_plots.py\", line 53, in plot_planet<br>\n",
    "    r, v = plnt.eph(epoch(t0.mjd2000 + day))<br>\n",
    "RuntimeError: Error: Satellite decayed<br>\n"
   ]
  },
  {
   "cell_type": "code",
   "execution_count": null,
   "metadata": {
    "collapsed": true
   },
   "outputs": [],
   "source": []
  },
  {
   "cell_type": "code",
   "execution_count": null,
   "metadata": {
    "collapsed": true
   },
   "outputs": [],
   "source": []
  }
 ],
 "metadata": {
  "kernelspec": {
   "display_name": "Python 3",
   "language": "python",
   "name": "python3"
  },
  "language_info": {
   "codemirror_mode": {
    "name": "ipython",
    "version": 3
   },
   "file_extension": ".py",
   "mimetype": "text/x-python",
   "name": "python",
   "nbconvert_exporter": "python",
   "pygments_lexer": "ipython3",
   "version": "3.6.3"
  }
 },
 "nbformat": 4,
 "nbformat_minor": 2
}
